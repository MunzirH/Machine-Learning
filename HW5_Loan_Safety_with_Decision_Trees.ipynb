{
 "cells": [
  {
   "cell_type": "markdown",
   "metadata": {
    "id": "_B2jyjc7T_D7"
   },
   "source": [
    "# Homework 5 - Loan Safety with Dec\n",
    "\n",
    "###Coding Portion should be submitted on EdStem, and the Concept Portion on Gradescope.\n",
    "\n",
    "The LendingClub is a peer-to-peer lending company that directly connects borrowers and potential lenders/investors. In this notebook, you will build a classification model to predict whether or not a loan provided by LendingClub is likely to default. In this assignment, you will practice:\n",
    "\n",
    "* Use Pandas Dataframes to do feature engineering\n",
    "* Train a decision tree model to predict the sentiment of product reviews.\n",
    "* Visualize the decision tree\n",
    "* Predict the probability of a certain label using the tree\n",
    "* Investigate how the complexity of the tree affects the results\n",
    "\n",
    "Fill in the cells provided marked `TODO` with code to answer the questions. **Unless otherwise noted, every answer you submit should have code that clearly shows the answer in the output.** Answers submitted that do not have associated code that shows the answer may not be accepted for credit. \n",
    "\n",
    "**Make sure to restart the kernel and run all cells** (especially before turning it in) to make sure your code runs correctly. \n",
    "\n",
    "> Copyright ©2021 Emily Fox, Hunter Schafer, and Valentina Staneva  All rights reserved.  Permission is hereby granted to students registered for University of Washington CSE/STAT 416 for use solely during Autumn Quarter 2020 for purposes of the course.  No other use, copying, distribution, or modification is permitted without prior written consent. Copyrights for third-party components of this work must be honored.  Instructors interested in reusing these course materials should contact the author.\n",
    "\n",
    "---"
   ]
  },
  {
   "cell_type": "code",
   "execution_count": 94,
   "metadata": {
    "id": "Ma7oV5KTT_EE"
   },
   "outputs": [],
   "source": [
    "import matplotlib.pyplot as plt\n",
    "import numpy as np\n",
    "import pandas as pd\n",
    "import seaborn as sns\n",
    "from mpl_toolkits.mplot3d import Axes3D\n",
    "\n",
    "%matplotlib inline\n",
    "sns.set()"
   ]
  },
  {
   "cell_type": "markdown",
   "metadata": {
    "id": "YEk9IlQTT_EF"
   },
   "source": [
    "# Investigate Data\n",
    "In this first part of the assignment, we will investigate the data to get a better sense of what we are working with. \n",
    "\n",
    "> Remember that you should look through and understand the parts of the code that load in data since the later parts will assume you are familiar with the preprocessing we did.\n",
    "\n",
    "First we load in the dataset and then inspect the values:"
   ]
  },
  {
   "cell_type": "code",
   "execution_count": 95,
   "metadata": {
    "id": "exZLlaQ0T_EF"
   },
   "outputs": [
    {
     "data": {
      "text/html": [
       "<div>\n",
       "<style scoped>\n",
       "    .dataframe tbody tr th:only-of-type {\n",
       "        vertical-align: middle;\n",
       "    }\n",
       "\n",
       "    .dataframe tbody tr th {\n",
       "        vertical-align: top;\n",
       "    }\n",
       "\n",
       "    .dataframe thead th {\n",
       "        text-align: right;\n",
       "    }\n",
       "</style>\n",
       "<table border=\"1\" class=\"dataframe\">\n",
       "  <thead>\n",
       "    <tr style=\"text-align: right;\">\n",
       "      <th></th>\n",
       "      <th>id</th>\n",
       "      <th>member_id</th>\n",
       "      <th>loan_amnt</th>\n",
       "      <th>funded_amnt</th>\n",
       "      <th>funded_amnt_inv</th>\n",
       "      <th>term</th>\n",
       "      <th>int_rate</th>\n",
       "      <th>installment</th>\n",
       "      <th>grade</th>\n",
       "      <th>sub_grade</th>\n",
       "      <th>...</th>\n",
       "      <th>sub_grade_num</th>\n",
       "      <th>delinq_2yrs_zero</th>\n",
       "      <th>pub_rec_zero</th>\n",
       "      <th>collections_12_mths_zero</th>\n",
       "      <th>short_emp</th>\n",
       "      <th>payment_inc_ratio</th>\n",
       "      <th>final_d</th>\n",
       "      <th>last_delinq_none</th>\n",
       "      <th>last_record_none</th>\n",
       "      <th>last_major_derog_none</th>\n",
       "    </tr>\n",
       "  </thead>\n",
       "  <tbody>\n",
       "    <tr>\n",
       "      <th>0</th>\n",
       "      <td>762032</td>\n",
       "      <td>962526</td>\n",
       "      <td>4000</td>\n",
       "      <td>4000</td>\n",
       "      <td>4000</td>\n",
       "      <td>36 months</td>\n",
       "      <td>10.59</td>\n",
       "      <td>130.18</td>\n",
       "      <td>B</td>\n",
       "      <td>B2</td>\n",
       "      <td>...</td>\n",
       "      <td>0.4</td>\n",
       "      <td>1</td>\n",
       "      <td>1</td>\n",
       "      <td>1</td>\n",
       "      <td>0</td>\n",
       "      <td>3.12432</td>\n",
       "      <td>20140601T000000</td>\n",
       "      <td>0</td>\n",
       "      <td>1</td>\n",
       "      <td>1</td>\n",
       "    </tr>\n",
       "    <tr>\n",
       "      <th>1</th>\n",
       "      <td>815326</td>\n",
       "      <td>1022979</td>\n",
       "      <td>12000</td>\n",
       "      <td>12000</td>\n",
       "      <td>12000</td>\n",
       "      <td>60 months</td>\n",
       "      <td>19.69</td>\n",
       "      <td>315.87</td>\n",
       "      <td>E</td>\n",
       "      <td>E5</td>\n",
       "      <td>...</td>\n",
       "      <td>1.0</td>\n",
       "      <td>1</td>\n",
       "      <td>1</td>\n",
       "      <td>1</td>\n",
       "      <td>0</td>\n",
       "      <td>2.70746</td>\n",
       "      <td>20160701T000000</td>\n",
       "      <td>0</td>\n",
       "      <td>1</td>\n",
       "      <td>1</td>\n",
       "    </tr>\n",
       "    <tr>\n",
       "      <th>2</th>\n",
       "      <td>563689</td>\n",
       "      <td>725339</td>\n",
       "      <td>8000</td>\n",
       "      <td>8000</td>\n",
       "      <td>7875</td>\n",
       "      <td>36 months</td>\n",
       "      <td>7.51</td>\n",
       "      <td>248.89</td>\n",
       "      <td>A</td>\n",
       "      <td>A4</td>\n",
       "      <td>...</td>\n",
       "      <td>0.8</td>\n",
       "      <td>1</td>\n",
       "      <td>1</td>\n",
       "      <td>1</td>\n",
       "      <td>0</td>\n",
       "      <td>2.59711</td>\n",
       "      <td>20130801T000000</td>\n",
       "      <td>0</td>\n",
       "      <td>1</td>\n",
       "      <td>1</td>\n",
       "    </tr>\n",
       "    <tr>\n",
       "      <th>3</th>\n",
       "      <td>756260</td>\n",
       "      <td>949279</td>\n",
       "      <td>4000</td>\n",
       "      <td>4000</td>\n",
       "      <td>3975</td>\n",
       "      <td>60 months</td>\n",
       "      <td>13.99</td>\n",
       "      <td>93.06</td>\n",
       "      <td>C</td>\n",
       "      <td>C3</td>\n",
       "      <td>...</td>\n",
       "      <td>0.6</td>\n",
       "      <td>1</td>\n",
       "      <td>1</td>\n",
       "      <td>1</td>\n",
       "      <td>0</td>\n",
       "      <td>5.07692</td>\n",
       "      <td>20160501T000000</td>\n",
       "      <td>1</td>\n",
       "      <td>1</td>\n",
       "      <td>1</td>\n",
       "    </tr>\n",
       "    <tr>\n",
       "      <th>4</th>\n",
       "      <td>787083</td>\n",
       "      <td>990585</td>\n",
       "      <td>5400</td>\n",
       "      <td>5400</td>\n",
       "      <td>5400</td>\n",
       "      <td>36 months</td>\n",
       "      <td>15.23</td>\n",
       "      <td>187.81</td>\n",
       "      <td>C</td>\n",
       "      <td>C5</td>\n",
       "      <td>...</td>\n",
       "      <td>1.0</td>\n",
       "      <td>1</td>\n",
       "      <td>1</td>\n",
       "      <td>1</td>\n",
       "      <td>0</td>\n",
       "      <td>12.52070</td>\n",
       "      <td>20140601T000000</td>\n",
       "      <td>1</td>\n",
       "      <td>1</td>\n",
       "      <td>1</td>\n",
       "    </tr>\n",
       "  </tbody>\n",
       "</table>\n",
       "<p>5 rows × 68 columns</p>\n",
       "</div>"
      ],
      "text/plain": [
       "       id  member_id  loan_amnt  funded_amnt  funded_amnt_inv       term  \\\n",
       "0  762032     962526       4000         4000             4000  36 months   \n",
       "1  815326    1022979      12000        12000            12000  60 months   \n",
       "2  563689     725339       8000         8000             7875  36 months   \n",
       "3  756260     949279       4000         4000             3975  60 months   \n",
       "4  787083     990585       5400         5400             5400  36 months   \n",
       "\n",
       "   int_rate  installment grade sub_grade  ... sub_grade_num delinq_2yrs_zero  \\\n",
       "0     10.59       130.18     B        B2  ...           0.4                1   \n",
       "1     19.69       315.87     E        E5  ...           1.0                1   \n",
       "2      7.51       248.89     A        A4  ...           0.8                1   \n",
       "3     13.99        93.06     C        C3  ...           0.6                1   \n",
       "4     15.23       187.81     C        C5  ...           1.0                1   \n",
       "\n",
       "  pub_rec_zero  collections_12_mths_zero short_emp payment_inc_ratio  \\\n",
       "0            1                         1         0           3.12432   \n",
       "1            1                         1         0           2.70746   \n",
       "2            1                         1         0           2.59711   \n",
       "3            1                         1         0           5.07692   \n",
       "4            1                         1         0          12.52070   \n",
       "\n",
       "           final_d last_delinq_none last_record_none last_major_derog_none  \n",
       "0  20140601T000000                0                1                     1  \n",
       "1  20160701T000000                0                1                     1  \n",
       "2  20130801T000000                0                1                     1  \n",
       "3  20160501T000000                1                1                     1  \n",
       "4  20140601T000000                1                1                     1  \n",
       "\n",
       "[5 rows x 68 columns]"
      ]
     },
     "execution_count": 95,
     "metadata": {},
     "output_type": "execute_result"
    }
   ],
   "source": [
    "loans = pd.read_csv('lending-club-data.csv')\n",
    "loans.head()"
   ]
  },
  {
   "cell_type": "markdown",
   "metadata": {
    "id": "SiWzmuIzT_EG"
   },
   "source": [
    "One of the features we will use in this assignment is the \"grade\" of the loan. We can investigate what this feature, \"grade\", looks like:"
   ]
  },
  {
   "cell_type": "code",
   "execution_count": 96,
   "metadata": {
    "id": "AzqRjKwlT_EG"
   },
   "outputs": [
    {
     "data": {
      "text/plain": [
       "<AxesSubplot:xlabel='grade', ylabel='count'>"
      ]
     },
     "execution_count": 96,
     "metadata": {},
     "output_type": "execute_result"
    },
    {
     "data": {
      "image/png": "[encoded data removed]",
      "text/plain": [
       "<Figure size 432x288 with 1 Axes>"
      ]
     },
     "metadata": {},
     "output_type": "display_data"
    }
   ],
   "source": [
    "# Want the grades to show up in order from high to low\n",
    "grade_order = sorted(loans['grade'].unique())\n",
    "\n",
    "sns.countplot(x='grade', data=loans, order=grade_order)"
   ]
  },
  {
   "cell_type": "markdown",
   "metadata": {
    "id": "3l_LOPRvT_EH"
   },
   "source": [
    "We can see that over half of the loan grades are assigned values A or B. Each loan is assigned one of these grades, along with a more finely discretized feature called subgrade (feel free to explore that feature column as well!). These values depend on the loan application and credit report, and determine the interest rate of the loan. More information if you're interested can be found [here](https://www.lendingclub.com/investing/investor-education/interest-rates-and-fees).\n",
    "\n",
    "Now let's look at another feature that will be used, \"home ownership\". This feature describes whether the loanee is mortaging, renting, or owns a home. We can see that a small percentage of the loanees own a home."
   ]
  },
  {
   "cell_type": "code",
   "execution_count": 97,
   "metadata": {
    "id": "aBOfjt9rT_EH"
   },
   "outputs": [
    {
     "data": {
      "text/plain": [
       "<AxesSubplot:xlabel='home_ownership', ylabel='count'>"
      ]
     },
     "execution_count": 97,
     "metadata": {},
     "output_type": "execute_result"
    },
    {
     "data": {
      "image/png": "[encoded data removed]",
      "text/plain": [
       "<Figure size 432x288 with 1 Axes>"
      ]
     },
     "metadata": {},
     "output_type": "display_data"
    }
   ],
   "source": [
    "ownership_order = sorted(loans['home_ownership'].unique())\n",
    "\n",
    "sns.countplot(x='home_ownership', data=loans, order=ownership_order)"
   ]
  },
  {
   "cell_type": "markdown",
   "metadata": {
    "id": "SQMLuoMHT_EI"
   },
   "source": [
    "## Investigate Data - Target\n",
    "The target column (label column) of the dataset that we are interested in is called `bad_loans`. In this column 1 means a risky (bad) loan 0 means a safe loan.\n",
    "\n",
    "In order to make this more intuitive and consistent with the lectures, we reassign the target to be:\n",
    "\n",
    "* +1 as a safe loan,\n",
    "* -1 as a risky (bad) loan.\n",
    "\n",
    "We put this in a new column called `safe_loans`. This column will be the target values you will use while training."
   ]
  },
  {
   "cell_type": "code",
   "execution_count": 98,
   "metadata": {
    "id": "gZOPYGGXT_EJ"
   },
   "outputs": [],
   "source": [
    "loans['safe_loans'] = loans['bad_loans'].apply(lambda x : +1 if x==0 else -1)\n",
    "\n",
    "# Drop the old bad_loans column\n",
    "loans = loans.drop(columns='bad_loans')"
   ]
  },
  {
   "cell_type": "markdown",
   "metadata": {
    "id": "7GNwIes3T_EJ"
   },
   "source": [
    "Now, let's explore the distribution of values for `safe_loans`. This gives us a sense of how many safe and risky loans are present in the dataset. "
   ]
  },
  {
   "cell_type": "code",
   "execution_count": 99,
   "metadata": {
    "id": "nzfeEeUtT_EK"
   },
   "outputs": [
    {
     "name": "stdout",
     "output_type": "stream",
     "text": [
      "Number safe  loans: 8461 (84.61%)\n",
      "Number risky loans: 1539 (15.39%)\n"
     ]
    }
   ],
   "source": [
    "only_safe = loans[loans['safe_loans'] == 1]\n",
    "only_bad = loans[loans['safe_loans'] == -1]\n",
    "\n",
    "print(f'Number safe  loans: {len(only_safe)} ({len(only_safe) * 100.0 / len(loans):.2f}%)')\n",
    "print(f'Number risky loans: {len(only_bad)} ({len(only_bad) * 100.0 / len(loans):.2f}%)')"
   ]
  },
  {
   "cell_type": "markdown",
   "metadata": {
    "id": "MEHckbgWT_EK"
   },
   "source": [
    "## Investigate Data - Questions\n",
    "\n",
    "### **🔍 Q1) Most frequent grade**\n",
    "Write code to compute the most frequent value in the `'grade'` column of our dataset.  Store the grade as a `str` in the variable `mode_grade`. You may assume that there is no tie in the most frequent grade.\n",
    "\n",
    "**Like all other problems, unless otherwise specified you need to write code to compute this value in the data rather than hard-coding the answer your find by some other means (e.g., looking at the plot above)**"
   ]
  },
  {
   "cell_type": "code",
   "execution_count": 100,
   "metadata": {
    "id": "YSjne4unT_EK"
   },
   "outputs": [
    {
     "name": "stdout",
     "output_type": "stream",
     "text": [
      "The most frequent value in the grade column is B\n"
     ]
    }
   ],
   "source": [
    "### edTest(test_q1_most_common_loan_grade) ###\n",
    "\n",
    "# TODO write code to find most frequent grade\n",
    "mode_grade = loans['grade'].value_counts().idxmax()\n",
    "print('The most frequent value in the grade column is',mode_grade)"
   ]
  },
  {
   "cell_type": "markdown",
   "metadata": {
    "id": "bUQcAU6nT_EL"
   },
   "source": [
    "### **🔍 Q2) Percentage Rent**\n",
    "What percent of the loans in our dataset are for renting? Write code to compute this number as a value between 0 and 1, and store it in a variable named `percent_rent`."
   ]
  },
  {
   "cell_type": "code",
   "execution_count": 101,
   "metadata": {
    "id": "S5cvj8yPT_EL"
   },
   "outputs": [
    {
     "name": "stdout",
     "output_type": "stream",
     "text": [
      "the percentage for rent is 0.4791\n"
     ]
    }
   ],
   "source": [
    "### edTest(test_q2_percent_rent) ###\n",
    "\n",
    "# TODO Write code to find percent of loans for rent\n",
    "percent_rent = len(loans[loans['home_ownership'] == 'RENT']['home_ownership'])/len(loans['home_ownership'])\n",
    "print('the percentage for rent is' ,percent_rent)"
   ]
  },
  {
   "cell_type": "markdown",
   "metadata": {
    "id": "3xT-LBwXT_EL"
   },
   "source": [
    "---\n",
    "\n",
    "# Preprocess Data for Learning\n",
    "In this section, we pre-process the data to make it suitable for ML.\n",
    "\n",
    "## Encode Categorical Features\n",
    "We will be using both numeric and categorical features to predict if a loan is safe or risky. The features are described in code commments in the next cell. "
   ]
  },
  {
   "cell_type": "code",
   "execution_count": 102,
   "metadata": {
    "id": "_WSYvN0KT_EM"
   },
   "outputs": [
    {
     "data": {
      "text/html": [
       "<div>\n",
       "<style scoped>\n",
       "    .dataframe tbody tr th:only-of-type {\n",
       "        vertical-align: middle;\n",
       "    }\n",
       "\n",
       "    .dataframe tbody tr th {\n",
       "        vertical-align: top;\n",
       "    }\n",
       "\n",
       "    .dataframe thead th {\n",
       "        text-align: right;\n",
       "    }\n",
       "</style>\n",
       "<table border=\"1\" class=\"dataframe\">\n",
       "  <thead>\n",
       "    <tr style=\"text-align: right;\">\n",
       "      <th></th>\n",
       "      <th>grade</th>\n",
       "      <th>sub_grade</th>\n",
       "      <th>short_emp</th>\n",
       "      <th>emp_length_num</th>\n",
       "      <th>home_ownership</th>\n",
       "      <th>dti</th>\n",
       "      <th>purpose</th>\n",
       "      <th>term</th>\n",
       "      <th>last_delinq_none</th>\n",
       "      <th>last_major_derog_none</th>\n",
       "      <th>revol_util</th>\n",
       "      <th>total_rec_late_fee</th>\n",
       "      <th>safe_loans</th>\n",
       "    </tr>\n",
       "  </thead>\n",
       "  <tbody>\n",
       "    <tr>\n",
       "      <th>0</th>\n",
       "      <td>B</td>\n",
       "      <td>B2</td>\n",
       "      <td>0</td>\n",
       "      <td>2</td>\n",
       "      <td>RENT</td>\n",
       "      <td>1.80</td>\n",
       "      <td>debt_consolidation</td>\n",
       "      <td>36 months</td>\n",
       "      <td>0</td>\n",
       "      <td>1</td>\n",
       "      <td>20.1</td>\n",
       "      <td>0.0</td>\n",
       "      <td>1</td>\n",
       "    </tr>\n",
       "    <tr>\n",
       "      <th>1</th>\n",
       "      <td>E</td>\n",
       "      <td>E5</td>\n",
       "      <td>0</td>\n",
       "      <td>11</td>\n",
       "      <td>MORTGAGE</td>\n",
       "      <td>11.73</td>\n",
       "      <td>medical</td>\n",
       "      <td>60 months</td>\n",
       "      <td>0</td>\n",
       "      <td>1</td>\n",
       "      <td>89.5</td>\n",
       "      <td>0.0</td>\n",
       "      <td>1</td>\n",
       "    </tr>\n",
       "    <tr>\n",
       "      <th>2</th>\n",
       "      <td>A</td>\n",
       "      <td>A4</td>\n",
       "      <td>0</td>\n",
       "      <td>11</td>\n",
       "      <td>MORTGAGE</td>\n",
       "      <td>8.94</td>\n",
       "      <td>other</td>\n",
       "      <td>36 months</td>\n",
       "      <td>0</td>\n",
       "      <td>1</td>\n",
       "      <td>14.1</td>\n",
       "      <td>0.0</td>\n",
       "      <td>1</td>\n",
       "    </tr>\n",
       "    <tr>\n",
       "      <th>3</th>\n",
       "      <td>C</td>\n",
       "      <td>C3</td>\n",
       "      <td>0</td>\n",
       "      <td>3</td>\n",
       "      <td>RENT</td>\n",
       "      <td>0.55</td>\n",
       "      <td>other</td>\n",
       "      <td>60 months</td>\n",
       "      <td>1</td>\n",
       "      <td>1</td>\n",
       "      <td>17.2</td>\n",
       "      <td>0.0</td>\n",
       "      <td>1</td>\n",
       "    </tr>\n",
       "    <tr>\n",
       "      <th>4</th>\n",
       "      <td>C</td>\n",
       "      <td>C5</td>\n",
       "      <td>0</td>\n",
       "      <td>3</td>\n",
       "      <td>RENT</td>\n",
       "      <td>15.47</td>\n",
       "      <td>debt_consolidation</td>\n",
       "      <td>36 months</td>\n",
       "      <td>1</td>\n",
       "      <td>1</td>\n",
       "      <td>25.3</td>\n",
       "      <td>0.0</td>\n",
       "      <td>1</td>\n",
       "    </tr>\n",
       "  </tbody>\n",
       "</table>\n",
       "</div>"
      ],
      "text/plain": [
       "  grade sub_grade  short_emp  emp_length_num home_ownership    dti  \\\n",
       "0     B        B2          0               2           RENT   1.80   \n",
       "1     E        E5          0              11       MORTGAGE  11.73   \n",
       "2     A        A4          0              11       MORTGAGE   8.94   \n",
       "3     C        C3          0               3           RENT   0.55   \n",
       "4     C        C5          0               3           RENT  15.47   \n",
       "\n",
       "              purpose       term  last_delinq_none  last_major_derog_none  \\\n",
       "0  debt_consolidation  36 months                 0                      1   \n",
       "1             medical  60 months                 0                      1   \n",
       "2               other  36 months                 0                      1   \n",
       "3               other  60 months                 1                      1   \n",
       "4  debt_consolidation  36 months                 1                      1   \n",
       "\n",
       "   revol_util  total_rec_late_fee  safe_loans  \n",
       "0        20.1                 0.0           1  \n",
       "1        89.5                 0.0           1  \n",
       "2        14.1                 0.0           1  \n",
       "3        17.2                 0.0           1  \n",
       "4        25.3                 0.0           1  "
      ]
     },
     "execution_count": 102,
     "metadata": {},
     "output_type": "execute_result"
    }
   ],
   "source": [
    "features = [\n",
    "    'grade',                     # grade of the loan (e.g. A or B)\n",
    "    'sub_grade',                 # sub-grade of the loan (e.g. A1, A2, B1)\n",
    "    'short_emp',                 # one year or less of employment (0 or 1)\n",
    "    'emp_length_num',            # number of years of employment (a number)\n",
    "    'home_ownership',            # home_ownership status (one of own, mortgage, rent or other)\n",
    "    'dti',                       # debt to income ratio (a number)\n",
    "    'purpose',                   # the purpose of the loan (one of many values)\n",
    "    'term',                      # the term of the loan (36 months or 60 months)\n",
    "    'last_delinq_none',          # has borrower had a delinquincy (0 or 1)\n",
    "    'last_major_derog_none',     # has borrower had 90 day or worse rating (0 or 1)\n",
    "    'revol_util',                # percent of available credit being used (number between 0 and 100)\n",
    "    'total_rec_late_fee',        # total late fees received to day (a number)\n",
    "]\n",
    "\n",
    "target = 'safe_loans'                   # prediction target (y) (+1 means safe, -1 is risky)\n",
    "\n",
    "# Extract the feature columns and target column\n",
    "loans = loans[features + [target]]\n",
    "loans.head()"
   ]
  },
  {
   "cell_type": "code",
   "execution_count": 103,
   "metadata": {
    "id": "4Y6HeWhbT_EM"
   },
   "outputs": [
    {
     "data": {
      "text/plain": [
       "Index(['grade', 'sub_grade', 'short_emp', 'emp_length_num', 'home_ownership',\n",
       "       'dti', 'purpose', 'term', 'last_delinq_none', 'last_major_derog_none',\n",
       "       'revol_util', 'total_rec_late_fee', 'safe_loans'],\n",
       "      dtype='object')"
      ]
     },
     "execution_count": 103,
     "metadata": {},
     "output_type": "execute_result"
    }
   ],
   "source": [
    "loans.columns"
   ]
  },
  {
   "cell_type": "markdown",
   "metadata": {
    "id": "0tBaxqQoT_EM"
   },
   "source": [
    "With how `sklearn` implemented its `DecisionTreeClassifier`, it is only able to handle numerical features; the technical reason being it only allows binary splits and assumes (like other `sklearn` models), that the data is only numerical. This means we need to translate the categorical features into numeric ones. \n",
    "\n",
    "The easiest way to do this is a **one-hot encoding** of each categorical feature. A one hot encoding of a feature creates new, derived, features that take on the value 0 or 1 (one new feature for each possible value of the original). This allows us to turn a categorical feature into a series of binary (0 or 1) numerical features.\n",
    "\n",
    "For examples, if we had the dataset shown below where 'Gender' takes on values 'M' (Male), 'F' (Female), 'O' (Other) and 'HasHouse' takes on values 'Y' (Yes), and 'N' (No). This dataset would not work by default in scikit-learn since it has features with categorical values.\n",
    "\n",
    "| Gender | HasHouse | Age |\n",
    "|--------|----------|-----|\n",
    "| M      | N        | 19  |\n",
    "| F      | Y        | 23  |\n",
    "| O      | Y        | 24  |\n",
    "| F      | N        | 21  |\n",
    "\n",
    "To fix this, we could use a one-hot encoding to transform the categorical features into numeric ones. A one-hot encoding of the categorical features would be \n",
    "\n",
    "| Gender_M | Gender_F | Gender_O | HasHouse_N | HasHouse_Y | Age |\n",
    "|----------|----------|----------|------------|------------|-----|\n",
    "| 1        | 0        | 0        | 1          | 0          | 19  |\n",
    "| 0        | 1        | 0        | 0          | 1          | 23  |\n",
    "| 0        | 0        | 1        | 0          | 1          | 24  |\n",
    "| 0        | 1        | 0        | 1          | 0          | 21  |\n",
    "\n",
    "Note that the original 'Gender' column has been transformed into three related columns 'Gender_M', 'Gender_F', and 'Gender_O' which contains zeros or ones depending on the rows' original value. For each row, only one of these derived columns will contain a one (hence the name one-hot encoding).\n",
    "\n",
    "To do this in `pandas`, we use the `get_dummies()` method (another name for one-hot encoding, is dummy variable). We show the new features of the data after running the function in the next cell."
   ]
  },
  {
   "cell_type": "code",
   "execution_count": 104,
   "metadata": {
    "id": "eUI2yQAQT_EM"
   },
   "outputs": [
    {
     "data": {
      "text/plain": [
       "['short_emp',\n",
       " 'emp_length_num',\n",
       " 'dti',\n",
       " 'last_delinq_none',\n",
       " 'last_major_derog_none',\n",
       " 'revol_util',\n",
       " 'total_rec_late_fee',\n",
       " 'grade_A',\n",
       " 'grade_B',\n",
       " 'grade_C',\n",
       " 'grade_D',\n",
       " 'grade_E',\n",
       " 'grade_F',\n",
       " 'grade_G',\n",
       " 'sub_grade_A1',\n",
       " 'sub_grade_A2',\n",
       " 'sub_grade_A3',\n",
       " 'sub_grade_A4',\n",
       " 'sub_grade_A5',\n",
       " 'sub_grade_B1',\n",
       " 'sub_grade_B2',\n",
       " 'sub_grade_B3',\n",
       " 'sub_grade_B4',\n",
       " 'sub_grade_B5',\n",
       " 'sub_grade_C1',\n",
       " 'sub_grade_C2',\n",
       " 'sub_grade_C3',\n",
       " 'sub_grade_C4',\n",
       " 'sub_grade_C5',\n",
       " 'sub_grade_D1',\n",
       " 'sub_grade_D2',\n",
       " 'sub_grade_D3',\n",
       " 'sub_grade_D4',\n",
       " 'sub_grade_D5',\n",
       " 'sub_grade_E1',\n",
       " 'sub_grade_E2',\n",
       " 'sub_grade_E3',\n",
       " 'sub_grade_E4',\n",
       " 'sub_grade_E5',\n",
       " 'sub_grade_F1',\n",
       " 'sub_grade_F2',\n",
       " 'sub_grade_F3',\n",
       " 'sub_grade_F4',\n",
       " 'sub_grade_F5',\n",
       " 'sub_grade_G1',\n",
       " 'sub_grade_G2',\n",
       " 'sub_grade_G3',\n",
       " 'sub_grade_G4',\n",
       " 'sub_grade_G5',\n",
       " 'home_ownership_MORTGAGE',\n",
       " 'home_ownership_OWN',\n",
       " 'home_ownership_RENT',\n",
       " 'purpose_car',\n",
       " 'purpose_credit_card',\n",
       " 'purpose_debt_consolidation',\n",
       " 'purpose_home_improvement',\n",
       " 'purpose_house',\n",
       " 'purpose_major_purchase',\n",
       " 'purpose_medical',\n",
       " 'purpose_moving',\n",
       " 'purpose_other',\n",
       " 'purpose_small_business',\n",
       " 'purpose_vacation',\n",
       " 'purpose_wedding',\n",
       " 'term_36 months',\n",
       " 'term_60 months']"
      ]
     },
     "execution_count": 104,
     "metadata": {},
     "output_type": "execute_result"
    }
   ],
   "source": [
    "loans = pd.get_dummies(loans)\n",
    "features = list(loans.columns)\n",
    "features.remove('safe_loans')\n",
    "features"
   ]
  },
  {
   "cell_type": "markdown",
   "metadata": {
    "id": "3Xvyx0-kT_EN"
   },
   "source": [
    "Here is a preview of the new dataset. Notice our categorical features have become 0/1s represented over many columns (e.g. \"grade\" becamse \"grade_A\" through \"grade_F\")."
   ]
  },
  {
   "cell_type": "code",
   "execution_count": 105,
   "metadata": {
    "id": "nmOnK7WdT_EN"
   },
   "outputs": [
    {
     "data": {
      "text/html": [
       "<div>\n",
       "<style scoped>\n",
       "    .dataframe tbody tr th:only-of-type {\n",
       "        vertical-align: middle;\n",
       "    }\n",
       "\n",
       "    .dataframe tbody tr th {\n",
       "        vertical-align: top;\n",
       "    }\n",
       "\n",
       "    .dataframe thead th {\n",
       "        text-align: right;\n",
       "    }\n",
       "</style>\n",
       "<table border=\"1\" class=\"dataframe\">\n",
       "  <thead>\n",
       "    <tr style=\"text-align: right;\">\n",
       "      <th></th>\n",
       "      <th>short_emp</th>\n",
       "      <th>emp_length_num</th>\n",
       "      <th>dti</th>\n",
       "      <th>last_delinq_none</th>\n",
       "      <th>last_major_derog_none</th>\n",
       "      <th>revol_util</th>\n",
       "      <th>total_rec_late_fee</th>\n",
       "      <th>safe_loans</th>\n",
       "      <th>grade_A</th>\n",
       "      <th>grade_B</th>\n",
       "      <th>...</th>\n",
       "      <th>purpose_house</th>\n",
       "      <th>purpose_major_purchase</th>\n",
       "      <th>purpose_medical</th>\n",
       "      <th>purpose_moving</th>\n",
       "      <th>purpose_other</th>\n",
       "      <th>purpose_small_business</th>\n",
       "      <th>purpose_vacation</th>\n",
       "      <th>purpose_wedding</th>\n",
       "      <th>term_36 months</th>\n",
       "      <th>term_60 months</th>\n",
       "    </tr>\n",
       "  </thead>\n",
       "  <tbody>\n",
       "    <tr>\n",
       "      <th>0</th>\n",
       "      <td>0</td>\n",
       "      <td>2</td>\n",
       "      <td>1.80</td>\n",
       "      <td>0</td>\n",
       "      <td>1</td>\n",
       "      <td>20.1</td>\n",
       "      <td>0.0</td>\n",
       "      <td>1</td>\n",
       "      <td>0</td>\n",
       "      <td>1</td>\n",
       "      <td>...</td>\n",
       "      <td>0</td>\n",
       "      <td>0</td>\n",
       "      <td>0</td>\n",
       "      <td>0</td>\n",
       "      <td>0</td>\n",
       "      <td>0</td>\n",
       "      <td>0</td>\n",
       "      <td>0</td>\n",
       "      <td>1</td>\n",
       "      <td>0</td>\n",
       "    </tr>\n",
       "    <tr>\n",
       "      <th>1</th>\n",
       "      <td>0</td>\n",
       "      <td>11</td>\n",
       "      <td>11.73</td>\n",
       "      <td>0</td>\n",
       "      <td>1</td>\n",
       "      <td>89.5</td>\n",
       "      <td>0.0</td>\n",
       "      <td>1</td>\n",
       "      <td>0</td>\n",
       "      <td>0</td>\n",
       "      <td>...</td>\n",
       "      <td>0</td>\n",
       "      <td>0</td>\n",
       "      <td>1</td>\n",
       "      <td>0</td>\n",
       "      <td>0</td>\n",
       "      <td>0</td>\n",
       "      <td>0</td>\n",
       "      <td>0</td>\n",
       "      <td>0</td>\n",
       "      <td>1</td>\n",
       "    </tr>\n",
       "    <tr>\n",
       "      <th>2</th>\n",
       "      <td>0</td>\n",
       "      <td>11</td>\n",
       "      <td>8.94</td>\n",
       "      <td>0</td>\n",
       "      <td>1</td>\n",
       "      <td>14.1</td>\n",
       "      <td>0.0</td>\n",
       "      <td>1</td>\n",
       "      <td>1</td>\n",
       "      <td>0</td>\n",
       "      <td>...</td>\n",
       "      <td>0</td>\n",
       "      <td>0</td>\n",
       "      <td>0</td>\n",
       "      <td>0</td>\n",
       "      <td>1</td>\n",
       "      <td>0</td>\n",
       "      <td>0</td>\n",
       "      <td>0</td>\n",
       "      <td>1</td>\n",
       "      <td>0</td>\n",
       "    </tr>\n",
       "    <tr>\n",
       "      <th>3</th>\n",
       "      <td>0</td>\n",
       "      <td>3</td>\n",
       "      <td>0.55</td>\n",
       "      <td>1</td>\n",
       "      <td>1</td>\n",
       "      <td>17.2</td>\n",
       "      <td>0.0</td>\n",
       "      <td>1</td>\n",
       "      <td>0</td>\n",
       "      <td>0</td>\n",
       "      <td>...</td>\n",
       "      <td>0</td>\n",
       "      <td>0</td>\n",
       "      <td>0</td>\n",
       "      <td>0</td>\n",
       "      <td>1</td>\n",
       "      <td>0</td>\n",
       "      <td>0</td>\n",
       "      <td>0</td>\n",
       "      <td>0</td>\n",
       "      <td>1</td>\n",
       "    </tr>\n",
       "    <tr>\n",
       "      <th>4</th>\n",
       "      <td>0</td>\n",
       "      <td>3</td>\n",
       "      <td>15.47</td>\n",
       "      <td>1</td>\n",
       "      <td>1</td>\n",
       "      <td>25.3</td>\n",
       "      <td>0.0</td>\n",
       "      <td>1</td>\n",
       "      <td>0</td>\n",
       "      <td>0</td>\n",
       "      <td>...</td>\n",
       "      <td>0</td>\n",
       "      <td>0</td>\n",
       "      <td>0</td>\n",
       "      <td>0</td>\n",
       "      <td>0</td>\n",
       "      <td>0</td>\n",
       "      <td>0</td>\n",
       "      <td>0</td>\n",
       "      <td>1</td>\n",
       "      <td>0</td>\n",
       "    </tr>\n",
       "  </tbody>\n",
       "</table>\n",
       "<p>5 rows × 67 columns</p>\n",
       "</div>"
      ],
      "text/plain": [
       "   short_emp  emp_length_num    dti  last_delinq_none  last_major_derog_none  \\\n",
       "0          0               2   1.80                 0                      1   \n",
       "1          0              11  11.73                 0                      1   \n",
       "2          0              11   8.94                 0                      1   \n",
       "3          0               3   0.55                 1                      1   \n",
       "4          0               3  15.47                 1                      1   \n",
       "\n",
       "   revol_util  total_rec_late_fee  safe_loans  grade_A  grade_B  ...  \\\n",
       "0        20.1                 0.0           1        0        1  ...   \n",
       "1        89.5                 0.0           1        0        0  ...   \n",
       "2        14.1                 0.0           1        1        0  ...   \n",
       "3        17.2                 0.0           1        0        0  ...   \n",
       "4        25.3                 0.0           1        0        0  ...   \n",
       "\n",
       "   purpose_house  purpose_major_purchase  purpose_medical  purpose_moving  \\\n",
       "0              0                       0                0               0   \n",
       "1              0                       0                1               0   \n",
       "2              0                       0                0               0   \n",
       "3              0                       0                0               0   \n",
       "4              0                       0                0               0   \n",
       "\n",
       "   purpose_other  purpose_small_business  purpose_vacation  purpose_wedding  \\\n",
       "0              0                       0                 0                0   \n",
       "1              0                       0                 0                0   \n",
       "2              1                       0                 0                0   \n",
       "3              1                       0                 0                0   \n",
       "4              0                       0                 0                0   \n",
       "\n",
       "   term_36 months  term_60 months  \n",
       "0               1               0  \n",
       "1               0               1  \n",
       "2               1               0  \n",
       "3               0               1  \n",
       "4               1               0  \n",
       "\n",
       "[5 rows x 67 columns]"
      ]
     },
     "execution_count": 105,
     "metadata": {},
     "output_type": "execute_result"
    }
   ],
   "source": [
    "loans.head()"
   ]
  },
  {
   "cell_type": "markdown",
   "metadata": {
    "id": "sBIXNWneT_EN"
   },
   "source": [
    "---\n",
    "# Model Training\n",
    "In this section, you will start writing code to train the decision tree model. \n",
    "\n",
    "First we split the data into 80% training data and 20% validation data. For this assignment, we will not use a test set since we aren't going to be deploying this model in the future and don't need to make a claim on our accuracy guarantee. "
   ]
  },
  {
   "cell_type": "code",
   "execution_count": 106,
   "metadata": {
    "id": "pMV8CctDT_EN"
   },
   "outputs": [],
   "source": [
    "from sklearn.model_selection import train_test_split\n",
    "\n",
    "train_data, validation_data = train_test_split(loans, test_size=0.2, random_state=5)"
   ]
  },
  {
   "cell_type": "markdown",
   "metadata": {
    "id": "BlvnFPH0T_EN"
   },
   "source": [
    "## **🔍 Q3) Train first classifier**\n",
    "\n",
    "Now let's use `sklearn`'s `DecisionTreeClassifier` (documentation [here](https://scikit-learn.org/stable/modules/generated/sklearn.tree.DecisionTreeClassifier.html)) \n",
    "to create a loan-safety prediction model on the training data. \n",
    "\n",
    "Train a decision tree classifier for this data. When creating the model you should only pass in the values `max_depth=6` and `random_state=6` (to make sure we get the same values). Use the features and target defined earlier when training the model on the training data. Save the tree in a variable called `decision_tree_model`."
   ]
  },
  {
   "cell_type": "code",
   "execution_count": 107,
   "metadata": {
    "id": "AmTPTk5tT_EN"
   },
   "outputs": [],
   "source": [
    "### edTest(test_q3_decision_tree_model) ###\n",
    "\n",
    "from sklearn.tree import DecisionTreeClassifier\n",
    "\n",
    "# TODO train a model with max_depth=6\n",
    "decision_tree_model = DecisionTreeClassifier(max_depth = 6, random_state = 6).fit(train_data[features], train_data[target])"
   ]
  },
  {
   "cell_type": "markdown",
   "metadata": {
    "id": "Evg2YmXVT_EO"
   },
   "source": [
    "Next, we want you to visualize what the tree looks like. In the cell below, we have defined a function to visualize the tree. \n",
    "\n",
    "Visualizing a depth 7 tree can be hard, so instead we will train another model stored in a variable called `small_tree_model` that has `max_depth=2`.\n",
    "\n",
    "Installing Graphviz (especially on Windows) can be kind of tricky. If the code below doesn't run correctly, we provide an image to the picture you should have seen! "
   ]
  },
  {
   "cell_type": "code",
   "execution_count": 108,
   "metadata": {
    "id": "HJa_muPXT_EO"
   },
   "outputs": [
    {
     "ename": "ModuleNotFoundError",
     "evalue": "No module named 'graphviz'",
     "output_type": "error",
     "traceback": [
      "\u001b[0;31m---------------------------------------------------------------------------\u001b[0m",
      "\u001b[0;31mModuleNotFoundError\u001b[0m                       Traceback (most recent call last)",
      "\u001b[0;32m<ipython-input-108-360706ab0e2c>\u001b[0m in \u001b[0;36m<module>\u001b[0;34m\u001b[0m\n\u001b[0;32m----> 1\u001b[0;31m \u001b[0;32mimport\u001b[0m \u001b[0mgraphviz\u001b[0m\u001b[0;34m\u001b[0m\u001b[0;34m\u001b[0m\u001b[0m\n\u001b[0m\u001b[1;32m      2\u001b[0m \u001b[0;32mfrom\u001b[0m \u001b[0msklearn\u001b[0m \u001b[0;32mimport\u001b[0m \u001b[0mtree\u001b[0m\u001b[0;34m\u001b[0m\u001b[0;34m\u001b[0m\u001b[0m\n\u001b[1;32m      3\u001b[0m \u001b[0;34m\u001b[0m\u001b[0m\n\u001b[1;32m      4\u001b[0m \u001b[0;34m\u001b[0m\u001b[0m\n\u001b[1;32m      5\u001b[0m \u001b[0;32mdef\u001b[0m \u001b[0mdraw_tree\u001b[0m\u001b[0;34m(\u001b[0m\u001b[0mtree_model\u001b[0m\u001b[0;34m,\u001b[0m \u001b[0mfeatures\u001b[0m\u001b[0;34m)\u001b[0m\u001b[0;34m:\u001b[0m\u001b[0;34m\u001b[0m\u001b[0;34m\u001b[0m\u001b[0m\n",
      "\u001b[0;31mModuleNotFoundError\u001b[0m: No module named 'graphviz'"
     ]
    }
   ],
   "source": [
    "import graphviz\n",
    "from sklearn import tree\n",
    "\n",
    "\n",
    "def draw_tree(tree_model, features):\n",
    "    \"\"\"\n",
    "    visualizes a Decision Tree\n",
    "    \"\"\"\n",
    "    tree_data = tree.export_graphviz(tree_model, \n",
    "                                    impurity=False, \n",
    "                                    feature_names=features,\n",
    "                                    class_names=tree_model.classes_.astype(str),\n",
    "                                    filled=True,\n",
    "                                    out_file=None)\n",
    "    graph = graphviz.Source(tree_data) \n",
    "    display(graph)\n",
    "    \n",
    "small_tree_model = DecisionTreeClassifier(max_depth=2, random_state=6)\n",
    "small_tree_model.fit(train_data[features], train_data[target])\n",
    "draw_tree(small_tree_model, features)"
   ]
  },
  {
   "cell_type": "markdown",
   "metadata": {
    "id": "nbH1bAfBT_EO"
   },
   "source": [
    "Each node in the tree shows\n",
    "* If it's an internal node, show what feature and value it splits on\n",
    "* `samples`: The number of samples at that node\n",
    "* `value`: The counts for each label at that node\n",
    "* `class`: The majority class at that node\n",
    "* The color showing how confident it is in the predictions at that node (blue is class +1, orange is class -1, white is in between). This corresponds to the probability of it predicting a certain label.\n",
    "\n",
    "## Making Predictions\n",
    "Now that we have trained the model, let's look at how it makes predictions on our data.\n",
    "\n",
    "### **🔍 Q4) Accuracies**\n",
    "Compute the training accuracy and validation accuracy using both your `decision_tree_model`. Calculate which percentage of those examples it classified correctly as a number between 0 and 1. So for this problem, you will need to make two variables:\n",
    "* `decision_train_accuracy` for `decision_tree_model`'s training accuracy\n",
    "* `decision_validation_accuracy` for `decision_tree_model`'s validation accuracy"
   ]
  },
  {
   "cell_type": "code",
   "execution_count": 109,
   "metadata": {
    "id": "vNPVm4WwT_EO"
   },
   "outputs": [
    {
     "name": "stdout",
     "output_type": "stream",
     "text": [
      "Training accuracy = 0.859375 , Validation accuracy = 0.8355\n"
     ]
    }
   ],
   "source": [
    "### edTest(test_q4_validation_accuracy) ###\n",
    "\n",
    "#TODO Find validation accuracy\n",
    "from sklearn.metrics import accuracy_score\n",
    "decision_train_accuracy = accuracy_score(train_data[target], decision_tree_model.predict(train_data[features]))\n",
    "decision_validation_accuracy = accuracy_score(validation_data[target], decision_tree_model.predict(validation_data[features]))\n",
    "print('Training accuracy =',decision_train_accuracy, ',','Validation accuracy =',decision_validation_accuracy) "
   ]
  },
  {
   "cell_type": "markdown",
   "metadata": {
    "id": "CiTBt_a1T_EO"
   },
   "source": [
    "##"
   ]
  },
  {
   "cell_type": "markdown",
   "metadata": {
    "id": "g3A9NDHNT_EP"
   },
   "source": [
    "### **🔍 Q5) Tall Tree**\n",
    "Next, you should train another decision tree model with `max_depth=10` (remember to also pass in `random_state=6`!). This will make a much deeper tree. \n",
    "\n",
    "In the cell below, train the model on the training data and report its training and validation accuracy. Save the model in a variable called `big_tree_model`, the training accuracy in a variable called `big_train_accuracy` and validation accuracy `big_validation_accuracy`.\n",
    "\n",
    "Look back at the values in the last question to see if your values here make sense with what you know about heights of trees."
   ]
  },
  {
   "cell_type": "code",
   "execution_count": 110,
   "metadata": {
    "id": "hUpGjl6XT_EP"
   },
   "outputs": [
    {
     "name": "stdout",
     "output_type": "stream",
     "text": [
      "Training accuracy = 0.884125 , Validation accuracy = 0.826\n"
     ]
    }
   ],
   "source": [
    "### edTest(test_q5_big_tree) ###\n",
    "\n",
    "# TODO train a model with max_depth=10\n",
    "big_tree_model = DecisionTreeClassifier(max_depth = 10, random_state = 6).fit(train_data[features], train_data[target])\n",
    "big_train_accuracy = accuracy_score(train_data[target], big_tree_model.predict(train_data[features]))\n",
    "big_validation_accuracy = accuracy_score(validation_data[target], big_tree_model.predict(validation_data[features]))\n",
    "print('Training accuracy =',big_train_accuracy, ',','Validation accuracy =',big_validation_accuracy) "
   ]
  },
  {
   "cell_type": "markdown",
   "metadata": {
    "id": "GtfLTcJHT_EP"
   },
   "source": [
    "---\n",
    "# **Q6) 🔍 Finding Right Fit**\n",
    "As we saw in the previous example, if we aren't careful with how we set `max_depth`, our model can potentially overfit or underfit. \n",
    "\n",
    "A common way of limiting the depth of the tree is to consider two early stopping rules:\n",
    "* When when the tree reaches a maximum depth (`max_depth`)\n",
    "* When the leaf nodes have too few data samples in them (`min_samples_leaf`)\n",
    "\n",
    "Instead of writing the standard hyper-parameter tuning loop you've written before (i.e. loop over possible choices of something like $\\lambda$, train on the training data with that value of $\\lambda$, and validate using a validation set), we will use a `sklearn` module that does this for us using k-fold cross validation.\n",
    "\n",
    "The reason we want to use a library for this task is it gets more complicated when we want to find the best combination of both `max_depth` and `min_samples_leaf`. The code becomes quite tedious to write since your loop would need to try all pairs of values for `max_depth` and `min_samples_leaf` and have some way of storing the results to compare.\n",
    "\n",
    "Instead, we use use `sklearn`'s `GridSearchCV` (documentation [here](https://scikit-learn.org/stable/modules/generated/sklearn.model_selection.GridSearchCV.html#sklearn.model_selection.GridSearchCV)) to do all this book-keeping for us! You should look at the documentation on that page (there is a good example underneath the method reference) to solve the following step.\n",
    "\n",
    "Use `GridSearchCV` to try all combinations of \n",
    "* `min_samples_leaf`: [1, 10, 50, 100, 200, 300]\n",
    "* `max_depth`: [1, 5, 10, 15, 20]\n",
    "\n",
    "Some implementation details:\n",
    "* For our code later, save the `GridSearchCV` object in a variable called `search` and the dictionary specifying parameters in a variable called `hyperparameters`.\n",
    "* You should use 6-fold valudation `cv=6` and make sure it records the training accuracies by using `return_train_score=True`.\n",
    "* Print the result using the `best_params_` property on the `GridSearchCV` object. \n",
    "* This might take some time to run! "
   ]
  },
  {
   "cell_type": "code",
   "execution_count": 111,
   "metadata": {
    "id": "iGgC7tUOT_EP"
   },
   "outputs": [
    {
     "name": "stdout",
     "output_type": "stream",
     "text": [
      "{'max_depth': 5, 'min_samples_leaf': 50}\n"
     ]
    }
   ],
   "source": [
    "### edTest(test_q6_grid_search) ###\n",
    "\n",
    "# TODO Use GridSearchCV to find best settings of hyperparameters\n",
    "#from sklearn import svm, datasets\n",
    "from sklearn.model_selection import GridSearchCV\n",
    "hyperparameters = {'min_samples_leaf': [1, 10, 50, 100, 200, 300], 'max_depth': [1, 5, 10, 15, 20]}\n",
    "search = GridSearchCV(DecisionTreeClassifier(), hyperparameters, cv = 6, return_train_score = True).fit(train_data[features], train_data[target])\n",
    "print(search.best_params_)"
   ]
  },
  {
   "cell_type": "markdown",
   "metadata": {
    "id": "Wba9NQm9T_EQ"
   },
   "source": [
    "We can also plot the train and validation accuracy of the models for different settings of the hyper-parameters. The plot will be in 3D since there are 2 inputs for each model specification."
   ]
  },
  {
   "cell_type": "code",
   "execution_count": 112,
   "metadata": {
    "id": "yqo_qU2KT_EQ"
   },
   "outputs": [
    {
     "data": {
      "image/png": "[encoded data removed]",
      "text/plain": [
       "<Figure size 1080x504 with 2 Axes>"
      ]
     },
     "metadata": {},
     "output_type": "display_data"
    }
   ],
   "source": [
    "def plot_scores(ax, title, search, hyperparameters, score_key):\n",
    "    # Get results from GridSearch and turn scores into matrix\n",
    "    cv_results = search.cv_results_\n",
    "    scores = cv_results[score_key]\n",
    "    scores = scores.reshape((len(hyperparameters['max_depth']), len(hyperparameters['min_samples_leaf'])))\n",
    "    max_depths = cv_results['param_max_depth'].reshape(scores.shape).data.astype(int)\n",
    "    min_samples_leafs = cv_results['param_min_samples_leaf'].reshape(scores.shape).data.astype(int)\n",
    "    \n",
    "    # Plot result\n",
    "    ax.plot_wireframe(max_depths, min_samples_leafs, scores)\n",
    "    ax.view_init(20, 220)\n",
    "    ax.set_xlabel('Maximum Depth')\n",
    "    ax.set_ylabel('Minimum Samples Leaf')\n",
    "    ax.set_zlabel('Accuracy')\n",
    "    ax.set_title(title)\n",
    "\n",
    "\n",
    "fig = plt.figure(figsize=(15,7))\n",
    "ax1 = fig.add_subplot(121, projection='3d')\n",
    "ax2 = fig.add_subplot(122, projection='3d')\n",
    "plot_scores(ax1, 'Train Accuracy', search, hyperparameters, 'mean_train_score')\n",
    "plot_scores(ax2, 'Validation Accuracy', search, hyperparameters, 'mean_test_score')"
   ]
  },
  {
   "cell_type": "markdown",
   "metadata": {
    "id": "XVVA5K5KT_EQ"
   },
   "source": [
    "There is no question for this part, but make sure you understand why we see the trends we do here. Make sure you can answer the following questions:\n",
    "* Why does the train accuracy spike up in the left graph, but go downward on the right graph?\n",
    "* Which graph should we look at to pick the model that will hopefully do best in the future?\n",
    "* Why is the spike in training accuracy only for the point with `max_depth=20` and `min_samples_leaf=1`? Why isn't the training accuracy very high for the other settings of `min_samples_leaf` even when `max_depth=20`?"
   ]
  },
  {
   "cell_type": "markdown",
   "metadata": {
    "id": "HGFu89pxT_EQ"
   },
   "source": [
    "--- \n",
    "# **🔍 Q7) Random Forest**\n",
    "In class, we talked about the random forest ensemble. To show us empirically that such a simple idea of adding multiple classifiers works in practice, in this section we are going to implement a type of random forest and analyze its performance. \n",
    "\n",
    "This is slightly different than most work you'll do in our course since we are asking you to implement the inner-workings of part of a model. You should write code to make the ensemble, but you can use `sklearn`'s decision tree model as the models in your ensemble; in other words you don't need to implement a decision tree from scratch! \n",
    "\n",
    "Below, we have written the starter code for a class called `RandomForest416` that has methods similar to most sklearn models. You only have to implement the `fit` method, all other parts are implemented for you. However, you should understand how the other code works to help you identify what you need to do.\n",
    "\n",
    "The `fit` method should train each tree on a different random sample of the examples in the given dataset with $n$ examples. Each random sample should select examples uniformly at random (with replacement) to make a new, modified, dataset of $n$ examples for that tree. To do this, you will want to use `np.random.randint` (documentation [here](https://numpy.org/doc/stable/reference/random/generated/numpy.random.randint.html)) to generate a random sequence of indices, and then use the `iloc` property on the given `pandas` objects to select those rows. \n"
   ]
  },
  {
   "cell_type": "code",
   "execution_count": null,
   "metadata": {
    "id": "dWk0FGzYT_EQ"
   },
   "outputs": [],
   "source": []
  },
  {
   "cell_type": "code",
   "execution_count": 113,
   "metadata": {
    "id": "UDsXDo0iT_ER"
   },
   "outputs": [],
   "source": [
    "### edTest(test_q7_random_forest) ###\n",
    "\n",
    "import scipy.stats \n",
    "\n",
    "class RandomForest416: \n",
    "    \"\"\"\n",
    "    This class implements the common sklearn model interface (has a fit and predict function).\n",
    "    \n",
    "    A random forest is a collection of decision trees that are trained on random subsets of the \n",
    "    dataset. When predicting the value for an example, takes a majority vote from the trees.\n",
    "    \"\"\"\n",
    "    \n",
    "    def __init__(self, num_trees, max_depth=None):\n",
    "        \"\"\"\n",
    "        Constructs a RandomForest416 that uses the given numbner of trees, each with a \n",
    "        max depth of max_depth.\n",
    "        \"\"\"\n",
    "        self._trees = [\n",
    "            DecisionTreeClassifier(max_depth=max_depth, random_state=1) \n",
    "            for i in range(num_trees)\n",
    "        ]\n",
    "        \n",
    "    def fit(self, X, y):\n",
    "        \"\"\"\n",
    "        Takes an input dataset X and a series of targets y and trains the RandomForest416.\n",
    "        \n",
    "        Each tree will be trained on a random sample of the data that samples the examples\n",
    "        uniformly at random (with replacement). Each random dataset will have the same number\n",
    "        of examples as the original dataset, but some examples may be missing or appear more \n",
    "        than once due to the random sampling with replacement.\n",
    "        \"\"\"    \n",
    "        # TODO implement this method!\n",
    "        \n",
    "        for tree in self._trees:\n",
    "            randomrow = np.random.randint(len(X), size = len(X))\n",
    "            randomrowinfo_X = X.iloc[randomrow]\n",
    "            randomrowinfo_y = y.iloc[randomrow]\n",
    "            tree.fit(randomrowinfo_X, randomrowinfo_y)\n",
    "        return self \n",
    "        \n",
    "            \n",
    "    def predict(self, X):\n",
    "        \"\"\"\n",
    "        Takes an input dataset X and returns the predictions for each example in X.\n",
    "        \"\"\"\n",
    "        # Builds up a 2d array with n rows and T columns\n",
    "        # where n is the number of points to classify and T is the number of trees\n",
    "        predictions = np.zeros((len(X), len(self._trees)))\n",
    "        for i, tree in enumerate(self._trees):\n",
    "            # Make predictions using the current tree\n",
    "            preds = tree.predict(X)\n",
    "            \n",
    "            # Store those predictions in ith column of the 2d array\n",
    "            predictions[:, i] = preds\n",
    "            \n",
    "        # For each row of predictions, find the most frequent label (axis=1 means across columns)\n",
    "        return scipy.stats.mode(predictions, axis=1)[0]"
   ]
  },
  {
   "cell_type": "markdown",
   "metadata": {
    "id": "UrEKewTPT_ER"
   },
   "source": [
    "You can test out your implemenation by running the following cell:"
   ]
  },
  {
   "cell_type": "code",
   "execution_count": 114,
   "metadata": {
    "id": "BYlUz7zYT_ER"
   },
   "outputs": [
    {
     "data": {
      "text/plain": [
       "array([[1.],\n",
       "       [1.],\n",
       "       [1.],\n",
       "       ...,\n",
       "       [1.],\n",
       "       [1.],\n",
       "       [1.]])"
      ]
     },
     "execution_count": 114,
     "metadata": {},
     "output_type": "execute_result"
    }
   ],
   "source": [
    "rf = RandomForest416(2, max_depth=1)\n",
    "rf.fit(train_data[features], train_data[target])\n",
    "rf.predict(validation_data[features])"
   ]
  },
  {
   "cell_type": "markdown",
   "metadata": {
    "id": "ZuvzyLGcT_ER"
   },
   "source": [
    "We can then compare how `sklearn`'s `DecisionTreeClassifier` to our `RandomForest416` to see how its training and validation accuracies compare as a function of the depth of the trees. The code below trains each model with a different max depth and then plots their accuracies. It might take some time to run, but it also prints the progress by showing the current depth it is on (it will range from 1 to 25)."
   ]
  },
  {
   "cell_type": "code",
   "execution_count": 115,
   "metadata": {
    "id": "9rZ8dL3hT_ER"
   },
   "outputs": [
    {
     "name": "stdout",
     "output_type": "stream",
     "text": [
      "Depth 1\n",
      "Depth 3\n",
      "Depth 5\n",
      "Depth 7\n",
      "Depth 9\n",
      "Depth 11\n",
      "Depth 13\n",
      "Depth 15\n",
      "Depth 17\n",
      "Depth 19\n",
      "Depth 21\n",
      "Depth 23\n",
      "Depth 25\n"
     ]
    },
    {
     "data": {
      "image/png": "[encoded data removed]",
      "text/plain": [
       "<Figure size 1080x360 with 2 Axes>"
      ]
     },
     "metadata": {},
     "output_type": "display_data"
    }
   ],
   "source": [
    "# First calculate the accuracies for each depth\n",
    "depths = list(range(1, 26, 2))\n",
    "dt_accuracies = []\n",
    "rf_accuracies = []\n",
    "\n",
    "for i in depths:\n",
    "    print(f'Depth {i}')\n",
    "\n",
    "    # Train and evaluate a Decision Tree Classifier with given max_depth\n",
    "    tree = DecisionTreeClassifier(max_depth=i)\n",
    "    tree.fit(train_data[features], train_data[target])\n",
    "    dt_accuracies.append((\n",
    "        accuracy_score(tree.predict(train_data[features]), train_data[target]),\n",
    "        accuracy_score(tree.predict(validation_data[features]), validation_data[target])\n",
    "    ))\n",
    "    \n",
    "    # Train and evaluate our RandomForest classifier with given max_depth \n",
    "    rf = RandomForest416(15, max_depth=i)\n",
    "    rf.fit(train_data[features], train_data[target])\n",
    "    rf_accuracies.append((     \n",
    "        accuracy_score(rf.predict(train_data[features]), train_data[target]),\n",
    "        accuracy_score(rf.predict(validation_data[features]), validation_data[target])\n",
    "    ))\n",
    "    \n",
    "# Then plot the scores\n",
    "fig, axs = plt.subplots(1, 2, figsize=(15, 5))\n",
    "\n",
    "# Plot training accuracies\n",
    "axs[0].plot(depths, [acc[0] for acc in dt_accuracies], label='DecisionTree')\n",
    "axs[0].plot(depths, [acc[0] for acc in rf_accuracies], label='RandomForest416')\n",
    "\n",
    "# Plot validation accuracies\n",
    "axs[1].plot(depths, [acc[1] for acc in dt_accuracies], label='DecisionTree')\n",
    "axs[1].plot(depths, [acc[1] for acc in rf_accuracies], label='RandomForest416')\n",
    "\n",
    "# Customize plots\n",
    "axs[0].set_title('Train Data')\n",
    "axs[1].set_title('Validation Data')\n",
    "for ax in axs:\n",
    "    ax.legend()\n",
    "    ax.set_xlabel('Max Depth')\n",
    "    ax.set_ylabel('Accuracy')"
   ]
  },
  {
   "cell_type": "markdown",
   "metadata": {
    "id": "BUOLq_nJT_ER"
   },
   "source": [
    "### **🔍 Q8) Which model?**\n",
    "Which model, when using max depth of 25, would we expect to perform the best in the future?\n",
    "\n",
    "Save your answer in a variable called `q8`. So either write\n",
    "* `q8 = 'DecisionTreeClassifier'`\n",
    "* `q8 = 'RandomForest416'`\n"
   ]
  },
  {
   "cell_type": "code",
   "execution_count": 116,
   "metadata": {
    "id": "xJG1r4SRT_ER"
   },
   "outputs": [],
   "source": [
    "### edTest(test_q8) ###\n",
    "\n",
    "# TODO select which model\n",
    "q8 = 'RandomForest416'"
   ]
  }
 ],
 "metadata": {
  "colab": {
   "name": "HW5_Loan_Safety_with_Decision_Trees.ipynb",
   "provenance": []
  },
  "kernelspec": {
   "display_name": "Python 3",
   "language": "python",
   "name": "python3"
  },
  "language_info": {
   "codemirror_mode": {
    "name": "ipython",
    "version": 3
   },
   "file_extension": ".py",
   "mimetype": "text/x-python",
   "name": "python",
   "nbconvert_exporter": "python",
   "pygments_lexer": "ipython3",
   "version": "3.8.5"
  }
 },
 "nbformat": 4,
 "nbformat_minor": 1
}
