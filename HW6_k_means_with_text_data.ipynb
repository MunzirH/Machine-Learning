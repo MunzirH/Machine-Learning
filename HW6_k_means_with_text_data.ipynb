{
 "cells": [
  {
   "cell_type": "markdown",
   "metadata": {
    "id": "oiWfDa1yo2go"
   },
   "source": [
    "# Homework 6 - Implementing k-means with Text Data\n",
    "\n",
    "### Coding Portion on EdStem and Concept on Gradescope\n",
    "\n",
    "In this assignment you will implement the k-means algorithm in the specific setting of clustering text documents, but the algorithm is general to any setting. When properly executed, clustering uncovers valuable insights from a set of unlabeled documents. The assignment uses the `numpy` library for manipulating the data arrays. See [this tutorial](https://numpy.org/doc/stable/user/quickstart.html) for more information on numpy.\n",
    "\n",
    "In this assignment, you will practice:\n",
    "\n",
    "* Cluster Wikipedia documents using k-means\n",
    "* Explore the role of random initialization on the quality of the clustering\n",
    "* Explore how results differ after changing the number of clusters\n",
    "* Evaluate clustering, both quantitatively and qualitatively\n",
    "\n",
    "Fill in the cells provided marked `TODO` with code to answer the questions. **Unless otherwise noted, every answer you submit should have code that clearly shows the answer in the output.** Answers submitted that do not have associated code that shows the answer may not be accepted for credit. \n",
    "\n",
    "**Make sure to restart the kernel and run all cells** (especially before turning it in) to make sure your code runs correctly. Answer the questions on Gradescope and make sure to download this file once you've finished the assignment and upload it to Canvas as well.\n",
    "\n",
    "> Copyright ©2021 Emily Fox and Hunter Schafer.  All rights reserved.  Permission is hereby granted to students registered for University of Washington CSE/STAT 416 for use solely during Autumn Quarter 2021 for purposes of the course.  No other use, copying, distribution, or modification is permitted without prior written consent. Copyrights for third-party components of this work must be honored.  Instructors interested in reusing these course materials should contact the author.\n",
    "\n",
    "---"
   ]
  },
  {
   "cell_type": "code",
   "execution_count": 1,
   "metadata": {
    "id": "ceTONP5so2gq"
   },
   "outputs": [],
   "source": [
    "import matplotlib.pyplot as plt\n",
    "import numpy as np\n",
    "import pandas as pd\n",
    "\n",
    "from scipy.sparse import csr_matrix\n",
    "\n",
    "%matplotlib inline"
   ]
  },
  {
   "cell_type": "markdown",
   "metadata": {
    "id": "ZfLHXS7Mo2gr"
   },
   "source": [
    "# Load data, Extract features"
   ]
  },
  {
   "cell_type": "code",
   "execution_count": 4,
   "metadata": {
    "id": "setANGGZo2gs"
   },
   "outputs": [
    {
     "data": {
      "text/html": [
       "<div>\n",
       "<style scoped>\n",
       "    .dataframe tbody tr th:only-of-type {\n",
       "        vertical-align: middle;\n",
       "    }\n",
       "\n",
       "    .dataframe tbody tr th {\n",
       "        vertical-align: top;\n",
       "    }\n",
       "\n",
       "    .dataframe thead th {\n",
       "        text-align: right;\n",
       "    }\n",
       "</style>\n",
       "<table border=\"1\" class=\"dataframe\">\n",
       "  <thead>\n",
       "    <tr style=\"text-align: right;\">\n",
       "      <th></th>\n",
       "      <th>URI</th>\n",
       "      <th>name</th>\n",
       "      <th>text</th>\n",
       "    </tr>\n",
       "  </thead>\n",
       "  <tbody>\n",
       "    <tr>\n",
       "      <th>0</th>\n",
       "      <td>&lt;http://dbpedia.org/resource/Mauno_J%C3%A4rvel...</td>\n",
       "      <td>Mauno J%C3%A4rvel%C3%A4</td>\n",
       "      <td>mauno jrvel born 25 november 1949 in kaustinen...</td>\n",
       "    </tr>\n",
       "    <tr>\n",
       "      <th>1</th>\n",
       "      <td>&lt;http://dbpedia.org/resource/David_W._Jourdan&gt;</td>\n",
       "      <td>David W. Jourdan</td>\n",
       "      <td>david walter jourdan born december 5 1954 is a...</td>\n",
       "    </tr>\n",
       "    <tr>\n",
       "      <th>2</th>\n",
       "      <td>&lt;http://dbpedia.org/resource/Patrick_Roach&gt;</td>\n",
       "      <td>Patrick Roach</td>\n",
       "      <td>patrick roach born march 4 1969 is a canadian ...</td>\n",
       "    </tr>\n",
       "    <tr>\n",
       "      <th>3</th>\n",
       "      <td>&lt;http://dbpedia.org/resource/Louis_Sauer&gt;</td>\n",
       "      <td>Louis Sauer</td>\n",
       "      <td>louis lou sauer aka louis edward sauer born 19...</td>\n",
       "    </tr>\n",
       "    <tr>\n",
       "      <th>4</th>\n",
       "      <td>&lt;http://dbpedia.org/resource/Marty_Keough&gt;</td>\n",
       "      <td>Marty Keough</td>\n",
       "      <td>richard martin keough born april 14 1934 in oa...</td>\n",
       "    </tr>\n",
       "  </tbody>\n",
       "</table>\n",
       "</div>"
      ],
      "text/plain": [
       "                                                 URI                     name  \\\n",
       "0  <http://dbpedia.org/resource/Mauno_J%C3%A4rvel...  Mauno J%C3%A4rvel%C3%A4   \n",
       "1     <http://dbpedia.org/resource/David_W._Jourdan>         David W. Jourdan   \n",
       "2        <http://dbpedia.org/resource/Patrick_Roach>            Patrick Roach   \n",
       "3          <http://dbpedia.org/resource/Louis_Sauer>              Louis Sauer   \n",
       "4         <http://dbpedia.org/resource/Marty_Keough>             Marty Keough   \n",
       "\n",
       "                                                text  \n",
       "0  mauno jrvel born 25 november 1949 in kaustinen...  \n",
       "1  david walter jourdan born december 5 1954 is a...  \n",
       "2  patrick roach born march 4 1969 is a canadian ...  \n",
       "3  louis lou sauer aka louis edward sauer born 19...  \n",
       "4  richard martin keough born april 14 1934 in oa...  "
      ]
     },
     "execution_count": 4,
     "metadata": {},
     "output_type": "execute_result"
    }
   ],
   "source": [
    "wiki = pd.read_csv('people_wiki.csv')\n",
    "wiki.head()"
   ]
  },
  {
   "cell_type": "markdown",
   "metadata": {
    "id": "Mp6rerafo2gs"
   },
   "source": [
    "To work with text data, we must first convert the documents into numerical features. Like Assignment 3, let's extract TF-IDF features for each article."
   ]
  },
  {
   "cell_type": "code",
   "execution_count": 92,
   "metadata": {
    "id": "tjhkztcpo2gs"
   },
   "outputs": [],
   "source": [
    "from sklearn.feature_extraction.text import TfidfVectorizer\n",
    "\n",
    "vectorizer = TfidfVectorizer(max_df=0.95)  # ignore words with very high doc frequency\n",
    "tf_idf = vectorizer.fit_transform(wiki['text'])\n",
    "words = vectorizer.get_feature_names()"
   ]
  },
  {
   "cell_type": "markdown",
   "metadata": {
    "id": "SWme47Spo2gt"
   },
   "source": [
    "Since most documents don't contain every word, many of the TF-IDF entries will be 0. Representing the TF-IDF matrix as a `numpy` matrix will require a lot of unnecessary storage to keep track of all those 0. SciPy provides the idea of a \"sparse matrix\" that only represents the non-zero entries of a matrix to save space. Externally, you treat it just like a numpy `matrix` but it takes up less storage."
   ]
  },
  {
   "cell_type": "code",
   "execution_count": 93,
   "metadata": {
    "id": "ZItU_xhko2gu"
   },
   "outputs": [
    {
     "data": {
      "text/plain": [
       "(5907, 112801)"
      ]
     },
     "execution_count": 93,
     "metadata": {},
     "output_type": "execute_result"
    }
   ],
   "source": [
    "tf_idf = csr_matrix(tf_idf)\n",
    "\n",
    "tf_idf.shape"
   ]
  },
  {
   "cell_type": "markdown",
   "metadata": {
    "id": "t516ujM_o2gv"
   },
   "source": [
    "The above matrix contains a TF-IDF score for each of the 5907 pages in the data set and each of the 112801 unique words. You can treat it like any matrix of data but internally it is space-efficient since it knows not to store the zero word counts."
   ]
  },
  {
   "cell_type": "markdown",
   "metadata": {
    "id": "CMif9Q0mo2gv"
   },
   "source": [
    "# Normalize all vectors"
   ]
  },
  {
   "cell_type": "markdown",
   "metadata": {
    "id": "f_ESjxfSo2gw"
   },
   "source": [
    "As discussed in the previous assignment, Euclidean distance can be a poor metric of similarity between documents, as it unfairly penalizes long articles. For a reasonable assessment of similarity, we should disregard the length information and use length-agnostic metrics, such as cosine distance.\n",
    "\n",
    "The k-means algorithm does not directly work with cosine distance, so we take an alternative route to remove length information: we normalize all vectors to be unit length. It turns out that Euclidean distance closely mimics cosine distance when all vectors are unit length. In particular, the squared Euclidean distance between any two vectors of length one is directly proportional to their cosine distance.\n",
    "\n",
    "---\n",
    "\n",
    "### Optional: Justification\n",
    "This section has some optional background material as to why normalizing makes sense here. You can skip down to the next line break if you don't want to read this.\n",
    "\n",
    "We can prove this as follows. Let $\\mathbf{x}$ and $\\mathbf{y}$ be normalized vectors, i.e. unit vectors, so that $\\|\\mathbf{x}\\|=\\|\\mathbf{y}\\|=1$. Write the squared Euclidean distance as the dot product of $(\\mathbf{x} - \\mathbf{y})$ to itself:\n",
    "\n",
    "$$\\begin{align*}\n",
    "\\|\\mathbf{x} - \\mathbf{y}\\|_2^2 &= (\\mathbf{x} - \\mathbf{y})^T(\\mathbf{x} - \\mathbf{y}) & \\text{(def of L2 norm)}\\\\\n",
    "                              &= (\\mathbf{x}^T \\mathbf{x}) - 2(\\mathbf{x}^T \\mathbf{y}) + (\\mathbf{y}^T \\mathbf{y}) & \\text{(FOIL expression)}\\\\\n",
    "                              &= \\|\\mathbf{x}\\|_2^2 - 2(\\mathbf{x}^T \\mathbf{y}) + \\|\\mathbf{y}\\|_2^2 & \\text{(def of L2 norm)}\\\\\n",
    "                              &= 2 - 2(\\mathbf{x}^T \\mathbf{y}) & \\text{($\\mathbf{x}$ and $\\mathbf{y}$ are length 1)}\\\\\n",
    "                              &= 2(1 - (\\mathbf{x}^T \\mathbf{y}))\\\\\n",
    "                              &= 2\\left(1 - \\frac{\\mathbf{x}^T \\mathbf{y}}{\\|\\mathbf{x}\\|_2\\|\\mathbf{y}\\|_2}\\right) & \\text{(Dividing by 1 doesn't change value)}\\\\\n",
    "                              &= 2 \\cdot cosine\\_distance(\\mathbf{x}, \\mathbf{y})\n",
    "\\end{align*}$$\n",
    "\n",
    "This tells us that two **unit vectors** that are close in Euclidean distance are also close in cosine distance. Thus, the k-means algorithm (which naturally uses Euclidean distances) on normalized vectors will produce the same results as clustering using cosine distance as a distance metric.\n",
    "\n",
    "*End optional section*.\n",
    "\n",
    "---\n",
    "We import the [`normalize()` function](http://scikit-learn.org/stable/modules/generated/sklearn.preprocessing.normalize.html) from scikit-learn to normalize all vectors to unit length."
   ]
  },
  {
   "cell_type": "code",
   "execution_count": 94,
   "metadata": {
    "id": "VzNdGbGdo2gw"
   },
   "outputs": [
    {
     "data": {
      "text/plain": [
       "<5907x112801 sparse matrix of type '<class 'numpy.float64'>'\n",
       "\twith 993501 stored elements in Compressed Sparse Row format>"
      ]
     },
     "execution_count": 94,
     "metadata": {},
     "output_type": "execute_result"
    }
   ],
   "source": [
    "from sklearn.preprocessing import normalize\n",
    "tf_idf = normalize(tf_idf)\n",
    "tf_idf"
   ]
  },
  {
   "cell_type": "markdown",
   "metadata": {
    "id": "n64QJfEXo2gy"
   },
   "source": [
    "# Implement k-means"
   ]
  },
  {
   "cell_type": "markdown",
   "metadata": {
    "id": "y5c57x6Zo2gz"
   },
   "source": [
    "The bulk of this assignment will be implementing k-means. We will tackle it in parts to make it manageable.\n",
    "\n",
    "First, we choose an initial set of centroids. A common practice is to choose randomly from the data points.\n",
    "\n",
    "**Note:** We specify a seed here, so that everyone gets the same answer. In practice, we highly recommend to use different seeds every time (for instance, by using the current timestamp)."
   ]
  },
  {
   "cell_type": "code",
   "execution_count": 95,
   "metadata": {
    "id": "Glm_VuNCo2gz"
   },
   "outputs": [],
   "source": [
    "def get_initial_centroids(data, k, seed=None):\n",
    "    \"\"\"\n",
    "    Randomly choose k data points as initial centroids\n",
    "    \"\"\"\n",
    "    if seed is not None: # useful for obtaining consistent results\n",
    "        np.random.seed(seed)\n",
    "        \n",
    "    n = data.shape[0] # number of data points\n",
    "        \n",
    "    # Pick K indices from range [0, n).\n",
    "    rand_indices = np.random.randint(0, n, k)\n",
    "    \n",
    "    # Keep centroids as dense format, as many entries will be nonzero due to averaging.\n",
    "    # As long as at least one document in a cluster contains a word,\n",
    "    # it will carry a nonzero weight in the TF-IDF vector of the centroid.\n",
    "    centroids = data[rand_indices,:].toarray()\n",
    "    \n",
    "    return centroids"
   ]
  },
  {
   "cell_type": "markdown",
   "metadata": {
    "id": "KEeFd0PBo2g0"
   },
   "source": [
    "### k-means Algorithm\n",
    "After initialization, the k-means algorithm iterates between the following two steps:\n",
    "1. Assign each data point to the closest centroid. $$z_i \\gets \\mathrm{argmin}_j \\|\\mathbf{\\mu}_j - \\mathbf{x}_i\\|^2$$\n",
    "2. Revise centroids as the mean of the assigned data points. $$\\mathbf{\\mu}_j \\gets \\frac{1}{n_j}\\sum_{i:z_i=j} \\mathbf{x}_i$$"
   ]
  },
  {
   "cell_type": "markdown",
   "metadata": {
    "id": "H92_8B9So2g0"
   },
   "source": [
    "In pseudocode, we iteratively do the following:\n",
    "```python\n",
    "cluster_assignment = assign_clusters(data, centroids)\n",
    "centroids = revise_centroids(data, k, cluster_assignment)\n",
    "```"
   ]
  },
  {
   "cell_type": "markdown",
   "metadata": {
    "id": "lyHkFDy0o2g0"
   },
   "source": [
    "## Assigning clusters"
   ]
  },
  {
   "cell_type": "markdown",
   "metadata": {
    "id": "VUgGWFe-o2g0"
   },
   "source": [
    "How do we implement Step 1 of the main k-means loop above? First we import `pairwise_distances` function from scikit-learn, which calculates Euclidean distances between rows of given arrays. See [this documentation](https://scikit-learn.org/stable/modules/generated/sklearn.metrics.pairwise.paired_distances.html) for more information.\n",
    "\n",
    "For the sake of demonstration, let's look at documents 100 through 102 as query documents and compute the distances between each of these documents and every other document in the corpus. In the k-means algorithm, we will have to compute pairwise distances between the set of centroids and the set of documents."
   ]
  },
  {
   "cell_type": "code",
   "execution_count": 96,
   "metadata": {
    "id": "GWs-Fn0_o2g1"
   },
   "outputs": [
    {
     "name": "stdout",
     "output_type": "stream",
     "text": [
      "[[1.39996239 1.39958932]\n",
      " [1.40386156 1.39754968]\n",
      " [1.38421176 1.39682604]\n",
      " ...\n",
      " [1.40562888 1.39024794]\n",
      " [1.39673862 1.38306708]\n",
      " [1.40872806 1.40250208]]\n"
     ]
    }
   ],
   "source": [
    "from sklearn.metrics import pairwise_distances\n",
    "\n",
    "# Get the TF-IDF vectors for documents 100 through 102.\n",
    "queries = tf_idf[100:102,:]\n",
    "\n",
    "# Compute pairwise distances from every data point to each query vector.\n",
    "dist = pairwise_distances(tf_idf, queries, metric='euclidean')\n",
    "print(dist)"
   ]
  },
  {
   "cell_type": "markdown",
   "metadata": {
    "id": "4Iln_9UMo2g1"
   },
   "source": [
    "More formally, `dist[i,j]` is assigned the distance between the `i`th row of `X` (i.e., `X[i,:]`) and the `j`th row of `Y` (i.e., `Y[j,:]`)."
   ]
  },
  {
   "cell_type": "markdown",
   "metadata": {
    "id": "9hFrWT1Yo2g1"
   },
   "source": [
    "## 🔍 **Question 1** Computing Distances\n",
    "\n",
    "To test your understanding of how this code works, in the cell below write practice code that does the following tasks\n",
    "\n",
    "* Initializes 3 centroids that are the first 3 rows of `tf_idf`\n",
    "* Compute the distances between all the points in `tf_idf` and the 3 centroids. The result should be a matrix with shape `(5907, 3)`. Store this in a variable called `distances`.\n",
    "* Use `distances` to find the distance between the row of `tf_idf` with index 430 to the second centroid (index 1). Store this value in a variable called `dist`."
   ]
  },
  {
   "cell_type": "code",
   "execution_count": 97,
   "metadata": {
    "id": "hNwsXNG9o2g2"
   },
   "outputs": [],
   "source": [
    "### edTest(test_q1_computing_distances) ###\n",
    "\n",
    "# TODO Fill out this cell\n",
    "#Initializing the 3 centroids\n",
    "centroids = tf_idf[:3,:]\n",
    "#Computing the distances\n",
    "distances = pairwise_distances(tf_idf, centroids, metric='euclidean')\n",
    "#print(distances.shape)\n",
    "#Distance between the 430th row and the second centroid\n",
    "dist = distances[430, 1]\n",
    "#print(dist)"
   ]
  },
  {
   "cell_type": "markdown",
   "metadata": {
    "id": "e0UQT5SKo2g2"
   },
   "source": [
    "## 🔍 **Question 2** Find closest centroid\n",
    "\n",
    "Next, given the pairwise distances, we take the minimum of the distances for each data point. Fittingly, NumPy provides an `argmin` function. See [this documentation](http://docs.scipy.org/doc/numpy-1.10.1/reference/generated/numpy.argmin.html) for details. After reading the documentation, in the cell below, write code to produce a 1D array whose $i^{th}$ entry indicates the centroid index that is the closest to the $i^{th}$ data point.\n",
    "\n",
    "Use the list of distances from the previous question. Following the theme of this case study, we will judge whether the clustering makes sense in the context of document analysis. Save this array as `closest_cluster`.\n",
    "\n",
    "As a note, it would be very slow to compute if you do not use the `argmin`. If you want your notebook to run in a reasonable amount of time, you will need to use the `argmin` function.\n",
    "\n",
    "*Hint:* the resulting array should be as long as the number of data points."
   ]
  },
  {
   "cell_type": "code",
   "execution_count": 98,
   "metadata": {
    "id": "R2-F7gC5o2g2"
   },
   "outputs": [
    {
     "name": "stdout",
     "output_type": "stream",
     "text": [
      "[0 1 2 ... 2 2 2]\n"
     ]
    }
   ],
   "source": [
    "### edTest(test_q2_closest_centroid) ###\n",
    "\n",
    "# TODO Fill out this cell\n",
    "closest_cluster=np.argmin(distances, axis=1)\n",
    "print(closest_cluster)"
   ]
  },
  {
   "cell_type": "markdown",
   "metadata": {
    "id": "c990JKsao2g3"
   },
   "source": [
    "## 🔍 **Question 3** Assign Clusters\n",
    "\n",
    "Now that we have completed components of the Step 1 code, let's put it together in a single function that takes a dataset and centroids and assigns each row to the closest centroid.Now we are ready to fill in the blanks the function `assign_clusters(data, centroids)`. "
   ]
  },
  {
   "cell_type": "code",
   "execution_count": 99,
   "metadata": {
    "id": "lm7fcVdCo2g3"
   },
   "outputs": [],
   "source": [
    "### edTest(test_q3_assign_clusters) ###\n",
    "\n",
    "# TODO Complete this function\n",
    "def assign_clusters(data, centroids):\n",
    "    \"\"\"\n",
    "    Parameters:  \n",
    "      - data      - is an np.array of float values of length n.  \n",
    "      - centroids - is an np.array of float values of length k.\n",
    "\n",
    "    Returns  \n",
    "      -  A np.array of length n where the ith index represents which centroid \n",
    "         data[i] was assigned to. The assignments range between the values 0, ..., k-1.\n",
    "    \"\"\"\n",
    "    # TODO Implement this function\n",
    "    return np.argmin(pairwise_distances(data, centroids, metric='euclidean'), axis=1)"
   ]
  },
  {
   "cell_type": "markdown",
   "metadata": {
    "id": "TWkIrMQvo2g3"
   },
   "source": [
    "# Revising clusters\n",
    "\n",
    "## Numpy Tutorial\n",
    "Let's turn to Step 2 of the k-means algorithm, where we compute the new centroids given the current cluster assignments. \n",
    "\n",
    "SciPy and NumPy arrays allow for filtering via Boolean masks. For instance, we filter all data points that are assigned to cluster 0 by writing\n",
    "\n",
    "```python\n",
    "data[cluster_assignment == 0, :]\n",
    "```\n",
    "\n",
    "To develop intuition about filtering, let's look at a small example consisting of 3 data points and 2 clusters."
   ]
  },
  {
   "cell_type": "code",
   "execution_count": 100,
   "metadata": {
    "id": "ip8G0lcso2g3"
   },
   "outputs": [],
   "source": [
    "data = np.array([[1., 2., 0.],\n",
    "                 [0., 0., 0.],\n",
    "                 [2., 2., 0.]])\n",
    "centroids = np.array([[0.5, 0.5, 0.],\n",
    "                      [0., -0.5, 0.]])"
   ]
  },
  {
   "cell_type": "markdown",
   "metadata": {
    "id": "NFm2E7OKo2g4"
   },
   "source": [
    "Let's assign these data points to the closest centroid using the function you wrote before."
   ]
  },
  {
   "cell_type": "code",
   "execution_count": 101,
   "metadata": {
    "id": "YiSiyNhNo2g4"
   },
   "outputs": [
    {
     "data": {
      "text/plain": [
       "array([0, 1, 0])"
      ]
     },
     "execution_count": 101,
     "metadata": {},
     "output_type": "execute_result"
    }
   ],
   "source": [
    "cluster_assignment = assign_clusters(data, centroids)\n",
    "cluster_assignment"
   ]
  },
  {
   "cell_type": "markdown",
   "metadata": {
    "id": "R4B2rRQfo2g4"
   },
   "source": [
    "The expression `cluster_assignment == 1` gives a list of Booleans that says whether each data point is assigned to cluster 1 or not:"
   ]
  },
  {
   "cell_type": "code",
   "execution_count": 102,
   "metadata": {
    "id": "yakykT0co2g4"
   },
   "outputs": [
    {
     "data": {
      "text/plain": [
       "array([False,  True, False])"
      ]
     },
     "execution_count": 102,
     "metadata": {},
     "output_type": "execute_result"
    }
   ],
   "source": [
    "cluster_assignment == 1"
   ]
  },
  {
   "cell_type": "markdown",
   "metadata": {
    "id": "KIxAztyho2g4"
   },
   "source": [
    "Likewise for cluster 0:"
   ]
  },
  {
   "cell_type": "code",
   "execution_count": 103,
   "metadata": {
    "id": "v5AWTe8Yo2g4"
   },
   "outputs": [
    {
     "data": {
      "text/plain": [
       "array([ True, False,  True])"
      ]
     },
     "execution_count": 103,
     "metadata": {},
     "output_type": "execute_result"
    }
   ],
   "source": [
    "cluster_assignment == 0"
   ]
  },
  {
   "cell_type": "markdown",
   "metadata": {
    "id": "WeCc0EaXo2g5"
   },
   "source": [
    "Instead of indices, we can also put in the list of Booleans to pick and choose rows. Only the rows that correspond to a `True` entry will be retained.\n",
    "\n",
    "First, let's look at the data points (i.e., their values) assigned to cluster 1:"
   ]
  },
  {
   "cell_type": "code",
   "execution_count": 104,
   "metadata": {
    "id": "mTwpHapRo2g5"
   },
   "outputs": [
    {
     "data": {
      "text/plain": [
       "array([[0., 0., 0.]])"
      ]
     },
     "execution_count": 104,
     "metadata": {},
     "output_type": "execute_result"
    }
   ],
   "source": [
    "data[cluster_assignment == 1]"
   ]
  },
  {
   "cell_type": "markdown",
   "metadata": {
    "id": "zuuberARo2g5"
   },
   "source": [
    "This makes sense since the vector `[0 0 0]` is closer to the centroid `[0 -0.5 0]` than to the centroid `[0.5 0.5 0]`.\n",
    "\n",
    "Now let's look at the data points assigned to cluster 0:"
   ]
  },
  {
   "cell_type": "code",
   "execution_count": 105,
   "metadata": {
    "id": "Czh-v5Bqo2g5"
   },
   "outputs": [
    {
     "data": {
      "text/plain": [
       "array([[1., 2., 0.],\n",
       "       [2., 2., 0.]])"
      ]
     },
     "execution_count": 105,
     "metadata": {},
     "output_type": "execute_result"
    }
   ],
   "source": [
    "data[cluster_assignment == 0]"
   ]
  },
  {
   "cell_type": "markdown",
   "metadata": {
    "id": "5NsRimvEo2g5"
   },
   "source": [
    "Again, this makes sense since these values are each closer to the centroid `[0.5 0.5 0]` than to `[0 -0.5 0]`.\n",
    "\n",
    "Given all the data points in a cluster, it only remains to compute the mean. Use [np.mean()](http://docs.scipy.org/doc/numpy-1.10.0/reference/generated/numpy.mean.html). By default, the function averages all elements in a 2D array. To compute row-wise or column-wise means, add the `axis` argument. See the linked documentation for details. \n",
    "\n",
    "In the cell below, we first find all the rows that were assigned cluster 0 and then take the average of those vectors to find the new cluster 0 centroid. Notice that the result will be an np.array with 3 elements because that's the dimensionality of the vectors."
   ]
  },
  {
   "cell_type": "code",
   "execution_count": 106,
   "metadata": {
    "id": "oWUrI8H7o2g5"
   },
   "outputs": [
    {
     "data": {
      "text/plain": [
       "array([1.5, 2. , 0. ])"
      ]
     },
     "execution_count": 106,
     "metadata": {},
     "output_type": "execute_result"
    }
   ],
   "source": [
    "data[cluster_assignment==0].mean(axis=0)"
   ]
  },
  {
   "cell_type": "markdown",
   "metadata": {
    "id": "RTD6v4Sao2g6"
   },
   "source": [
    "## 🔍 **Question 4** Revise Centroids\n",
    "\n",
    "\n",
    "Now we are ready to fill in the blanks the function `revise_centroids(data, k, cluster_assignment)`. In the cell below, complete the `...` sections to compute the new centroids given the current cluster assignment."
   ]
  },
  {
   "cell_type": "code",
   "execution_count": 107,
   "metadata": {
    "id": "Q-HN9vXno2g6"
   },
   "outputs": [],
   "source": [
    "### edTest(test_q4_revise_centroids) ###\n",
    "\n",
    "# TODO fill in this function\n",
    "def revise_centroids(data, k, cluster_assignment):\n",
    "    \"\"\"\n",
    "    Parameters:  \n",
    "      - data               - is an np.array of float values of length n.\n",
    "      - k                  - number of centroids\n",
    "      - cluster_assignment - np.array of length n where the ith index represents which \n",
    "                             centroid data[i] was assigned to. The assignments range between the values 0, ..., k-1.\n",
    "\n",
    "    Returns  \n",
    "      -  A np.array of length k for the new centroids.\n",
    "    \"\"\"\n",
    "    new_centroids = []\n",
    "    for i in range(k):\n",
    "        # Select all data points that belong to cluster i. Fill in the blank (RHS only)\n",
    "        member_data_points = data[cluster_assignment == i]\n",
    "        # Compute the mean of the data points. Fill in the blank (RHS only)\n",
    "        centroid = np.mean(member_data_points, axis = 0)\n",
    "        \n",
    "        # Convert numpy.matrix type to numpy.ndarray type\n",
    "        centroid = centroid.A1\n",
    "        new_centroids.append(centroid)\n",
    "        \n",
    "    new_centroids = np.array(new_centroids)\n",
    "    return new_centroids"
   ]
  },
  {
   "cell_type": "markdown",
   "metadata": {
    "id": "RtHVvmZ0o2g7"
   },
   "source": [
    "# Assessing convergence"
   ]
  },
  {
   "cell_type": "markdown",
   "metadata": {
    "id": "S-bICx7Ko2g7"
   },
   "source": [
    "How can we tell if the k-means algorithm is converging? We can look at the cluster assignments and see if they stabilize over time. In fact, we'll be running the algorithm until the cluster assignments stop changing at all. To be extra safe, and to assess the clustering performance, we'll be looking at an additional criteria: the sum of all squared distances between data points and centroids. This is defined as\n",
    "$$\n",
    "J(\\mathcal{Z},\\mu) = \\sum_{j=0}^{k-1} \\sum_{i=1:z_i = j}^n \\|\\mathbf{x}_i - \\mu_j\\|^2.\n",
    "$$\n",
    "The smaller the distances, the more homogeneous the clusters are. In other words, we'd like to have \"tight\" clusters."
   ]
  },
  {
   "cell_type": "code",
   "execution_count": 108,
   "metadata": {
    "id": "oMXXy-1po2g7"
   },
   "outputs": [],
   "source": [
    "def compute_heterogeneity(data, k, centroids, cluster_assignment):\n",
    "    \"\"\"\n",
    "    Computes the heterogeneity metric of the data using the given centroids and cluster assignments.\n",
    "    \"\"\"\n",
    "    heterogeneity = 0.0\n",
    "    for i in range(k):\n",
    "        \n",
    "        # Select all data points that belong to cluster i. Fill in the blank (RHS only)\n",
    "        member_data_points = data[cluster_assignment == i, :]\n",
    "        \n",
    "        if member_data_points.shape[0] > 0: # check if i-th cluster is non-empty\n",
    "            # Compute distances from centroid to data point\n",
    "            distances = pairwise_distances(member_data_points, [centroids[i]], metric='euclidean')\n",
    "            squared_distances = distances ** 2\n",
    "            heterogeneity += np.sum(squared_distances)\n",
    "        \n",
    "    return heterogeneity\n",
    "\n",
    "    "
   ]
  },
  {
   "cell_type": "markdown",
   "metadata": {
    "id": "eJTwGp7No2g7"
   },
   "source": [
    "Let's compute the cluster heterogeneity for the 2-cluster example we've been considering based on our current cluster assignments and centroids."
   ]
  },
  {
   "cell_type": "code",
   "execution_count": 109,
   "metadata": {
    "id": "hwM166nAo2g7"
   },
   "outputs": [
    {
     "name": "stdout",
     "output_type": "stream",
     "text": [
      "7.25\n"
     ]
    },
    {
     "data": {
      "text/plain": [
       "(3,)"
      ]
     },
     "execution_count": 109,
     "metadata": {},
     "output_type": "execute_result"
    }
   ],
   "source": [
    "print(compute_heterogeneity(data, 2, centroids, cluster_assignment))\n",
    "cluster_assignment.shape"
   ]
  },
  {
   "cell_type": "markdown",
   "metadata": {
    "id": "pEkoWc6po2g8"
   },
   "source": [
    "# 🔍 **Question 5** Combining into a single function"
   ]
  },
  {
   "cell_type": "markdown",
   "metadata": {
    "id": "2nlMU9fxo2g8"
   },
   "source": [
    "Once the two k-means steps have been implemented, as well as our heterogeneity metric we wish to monitor, it is only a matter of putting these functions together to write a k-means algorithm that\n",
    "\n",
    "* Repeatedly performs Steps 1 and 2\n",
    "* Tracks convergence metrics on each iteration\n",
    "* Stops if either no assignment changed or we reach a certain number of iterations."
   ]
  },
  {
   "cell_type": "markdown",
   "metadata": {
    "id": "W3nS9YNeo2g8"
   },
   "source": [
    "Now we are ready to fill in the blanks the function `kmeans(data, k, initial_centroids, maxiter, record_heterogeneity=None, verbose=False)`. In the cell below, complete the `...` sections to meet the specification of the function."
   ]
  },
  {
   "cell_type": "code",
   "execution_count": 110,
   "metadata": {
    "id": "CuA7bfh8o2g8"
   },
   "outputs": [],
   "source": [
    "### edTest(test_q5_kmeans) ###\n",
    "\n",
    "# TODO Fill in the blanks\n",
    "def kmeans(data, k, initial_centroids, max_iter, record_heterogeneity=None, verbose=False):\n",
    "    \"\"\"\n",
    "    This function runs k-means on given data and initial set of centroids.\n",
    "    \n",
    "    Parameters:  \n",
    "      - data                 - is an np.array of float values of length N.\n",
    "      - k                    - number of centroids\n",
    "      - initial_centroids    - is an np.array of float values of length k.\n",
    "      - max_iter             - maximum number of iterations to run the algorithm\n",
    "      - record_heterogeneity - if provided an empty list, it will compute the heterogeneity \n",
    "                               at each iteration and append it to the list. \n",
    "                               Defaults to None and won't record heterogeneity.\n",
    "      - verbose              - set to True to display progress. Defaults to False and won't \n",
    "                               display progress.\n",
    "\n",
    "    Returns  \n",
    "      - centroids - A np.array of length k for the centroids upon termination of the algorithm.\n",
    "      - cluster_assignment - A np.array of length n where the ith index represents which \n",
    "                             centroid data[i] was assigned to. The assignments range between the \n",
    "                             values 0, ..., k-1 upon termination of the algorithm.\n",
    "    \"\"\"\n",
    "    centroids = initial_centroids[:]\n",
    "    prev_cluster_assignment = None\n",
    "    \n",
    "    for itr in range(max_iter):  \n",
    "        # Print itereation number\n",
    "        if verbose:\n",
    "            print(itr)\n",
    "        \n",
    "        # 1. Make cluster assignments using nearest centroids\n",
    "        cluster_assignment = assign_clusters(data, centroids)\n",
    "            \n",
    "        # 2. Compute a new centroid for each of the k clusters, averaging all data points assigned to that cluster.\n",
    "        centroids = revise_centroids(data, k, cluster_assignment)\n",
    "            \n",
    "        # Check for convergence: if none of the assignments changed, stop\n",
    "        if prev_cluster_assignment is not None and \\\n",
    "          (prev_cluster_assignment == cluster_assignment).all():\n",
    "            break\n",
    "        \n",
    "        # Print number of new assignments \n",
    "        if prev_cluster_assignment is not None:\n",
    "            num_changed = sum(abs(prev_cluster_assignment - cluster_assignment))\n",
    "            if verbose:\n",
    "                print(f'    {num_changed:5d} elements changed their cluster assignment.')  \n",
    "        \n",
    "        # Record heterogeneity convergence metric\n",
    "        if record_heterogeneity is not None:\n",
    "            score = compute_heterogeneity(data, k, centroids, cluster_assignment)\n",
    "            record_heterogeneity.append(score)\n",
    "        \n",
    "        prev_cluster_assignment = cluster_assignment[:]\n",
    "        \n",
    "    return centroids, cluster_assignment"
   ]
  },
  {
   "cell_type": "markdown",
   "metadata": {
    "id": "7-k9mXeGo2g9"
   },
   "source": [
    "## Plotting convergence metric"
   ]
  },
  {
   "cell_type": "markdown",
   "metadata": {
    "id": "2NLLacWQo2g9"
   },
   "source": [
    "We can use the above function to plot the convergence metric across iterations."
   ]
  },
  {
   "cell_type": "code",
   "execution_count": 111,
   "metadata": {
    "id": "CKlGRiPro2g9"
   },
   "outputs": [],
   "source": [
    "def plot_heterogeneity(heterogeneity, k):\n",
    "    \"\"\"\n",
    "    Plots how the heterogeneity changes as the number of iterations increases.\n",
    "    \"\"\"\n",
    "    plt.figure(figsize=(7,4))\n",
    "    plt.plot(heterogeneity, linewidth=4)\n",
    "    plt.xlabel('# Iterations')\n",
    "    plt.ylabel('Heterogeneity')\n",
    "    plt.title(f'Heterogeneity of clustering over time, K={k}')\n",
    "    plt.rcParams.update({'font.size': 16})\n",
    "    plt.tight_layout()"
   ]
  },
  {
   "cell_type": "markdown",
   "metadata": {
    "id": "1rIUylF3o2g9"
   },
   "source": [
    "Let's consider running k-means with K=3 clusters for a maximum of 400 iterations, recording cluster heterogeneity at every step.  Then, let's plot the heterogeneity over iterations using the plotting function above. We include a seed to ensure everyone gets the same results."
   ]
  },
  {
   "cell_type": "code",
   "execution_count": 112,
   "metadata": {
    "id": "Cq1dUFcbo2g9"
   },
   "outputs": [
    {
     "name": "stdout",
     "output_type": "stream",
     "text": [
      "0\n",
      "1\n",
      "     2036 elements changed their cluster assignment.\n",
      "2\n",
      "      654 elements changed their cluster assignment.\n",
      "3\n",
      "      376 elements changed their cluster assignment.\n",
      "4\n",
      "      264 elements changed their cluster assignment.\n",
      "5\n",
      "      112 elements changed their cluster assignment.\n",
      "6\n",
      "       37 elements changed their cluster assignment.\n",
      "7\n",
      "       10 elements changed their cluster assignment.\n",
      "8\n",
      "        6 elements changed their cluster assignment.\n",
      "9\n",
      "        2 elements changed their cluster assignment.\n",
      "10\n",
      "        2 elements changed their cluster assignment.\n",
      "11\n"
     ]
    },
    {
     "data": {
      "image/png": "[encoded data removed]",
      "text/plain": [
       "<Figure size 504x288 with 1 Axes>"
      ]
     },
     "metadata": {
      "needs_background": "light"
     },
     "output_type": "display_data"
    }
   ],
   "source": [
    "k = 3\n",
    "heterogeneity = []\n",
    "initial_centroids = get_initial_centroids(tf_idf, k, seed=0)\n",
    "centroids, cluster_assignment = kmeans(tf_idf, k, initial_centroids, max_iter=400,\n",
    "                                       record_heterogeneity=heterogeneity, verbose=True)\n",
    "plot_heterogeneity(heterogeneity, k)"
   ]
  },
  {
   "cell_type": "markdown",
   "metadata": {
    "id": "ySIw0ENho2g-"
   },
   "source": [
    "### 🔍 **Question 6** Largest cluster\n",
    "\n",
    "Using the clustering made in the last cell, write code to computer which cluster contains the most data points. Store your result as a index (an `int`) in a variable named `largest_cluster` \n",
    "representing which cluster in `centroids` has the most datapoints assigned to it.\n"
   ]
  },
  {
   "cell_type": "code",
   "execution_count": 113,
   "metadata": {
    "id": "LD169iTdo2g-"
   },
   "outputs": [],
   "source": [
    "### edTest(test_q6_largest_cluster) ###\n",
    "\n",
    "# TODO Find largest cluster from example above\n",
    "largest_cluster = np.argmax(cluster_assignment)"
   ]
  },
  {
   "cell_type": "markdown",
   "metadata": {
    "id": "ZRMReDFDo2g-"
   },
   "source": [
    "# Beware of Local Minima"
   ]
  },
  {
   "cell_type": "markdown",
   "metadata": {
    "id": "DFTr3iT1o2g-"
   },
   "source": [
    "One weakness of k-means is that it tends to get stuck in a local minimum based on its starting position. To see this, let us run k-means multiple times, with different initial centroids created using different random seeds.\n",
    "\n",
    "**Note:** Again, in practice, you should set different seeds for every run. We give you a list of seeds for this assignment so that everyone gets the same answer.\n",
    "\n",
    "This may take a minute or two to run."
   ]
  },
  {
   "cell_type": "code",
   "execution_count": 114,
   "metadata": {
    "id": "GYoNAOYWo2g-"
   },
   "outputs": [
    {
     "name": "stdout",
     "output_type": "stream",
     "text": [
      "seed=000000, heterogeneity=5569.17352\n",
      "seed=020000, heterogeneity=5563.93396\n",
      "seed=040000, heterogeneity=5562.09533\n",
      "seed=060000, heterogeneity=5574.80813\n",
      "seed=080000, heterogeneity=5563.38377\n",
      "seed=100000, heterogeneity=5565.93209\n",
      "seed=120000, heterogeneity=5572.40064\n",
      "CPU times: user 3.18 s, sys: 38.9 ms, total: 3.22 s\n",
      "Wall time: 3.22 s\n"
     ]
    }
   ],
   "source": [
    "%%time\n",
    "# ^ Magic command to time how long it takes for this cell to run!\n",
    "# You can see how long it took with the output that says \"Wall time\"\n",
    "\n",
    "k = 10\n",
    "heterogeneity = {}\n",
    "for seed in [0, 20000, 40000, 60000, 80000, 100000, 120000]:\n",
    "    initial_centroids = get_initial_centroids(tf_idf, k, seed)\n",
    "    centroids, cluster_assignment = kmeans(tf_idf, k, initial_centroids, max_iter=800,\n",
    "                                           record_heterogeneity=None, verbose=False)\n",
    "    # To save time, compute heterogeneity only once in the end\n",
    "    heterogeneity[seed] = compute_heterogeneity(tf_idf, k, centroids, cluster_assignment)\n",
    "    print(f'seed={seed:06d}, heterogeneity={heterogeneity[seed]:.5f}')\n"
   ]
  },
  {
   "cell_type": "markdown",
   "metadata": {
    "id": "8LJPdfM5o2g_"
   },
   "source": [
    "Notice the variation in heterogeneity for different initializations. This indicates that k-means runs may have not converged or they got stuck at a local minimum.\n",
    "\n",
    "# k-means++\n",
    "One effective way to counter this tendency is to use **k-means++** to provide a smart initialization. This method tries to spread out the initial set of centroids so that they are not too close together. It is known to improve the quality of local optima and lower average runtime, but is a bit slower to start since it needs to do more computation to place centroids."
   ]
  },
  {
   "cell_type": "code",
   "execution_count": 115,
   "metadata": {
    "id": "grD3A8E7o2g_"
   },
   "outputs": [],
   "source": [
    "def smart_initialize(data, k, seed=None):\n",
    "    \"\"\"\n",
    "    Use k-means++ to initialize a good set of centroids\n",
    "    \"\"\"\n",
    "    if seed is not None: # useful for obtaining consistent results\n",
    "        np.random.seed(seed)\n",
    "        \n",
    "    centroids = np.zeros((k, data.shape[1]))\n",
    "    \n",
    "    # Randomly choose the first centroid.\n",
    "    # Since we have no prior knowledge, choose uniformly at random\n",
    "    idx = np.random.randint(data.shape[0])\n",
    "    centroids[0] = data[idx,:].toarray()\n",
    "    \n",
    "    # Compute distances from the first centroid chosen to all the other data points\n",
    "    distances = pairwise_distances(data, centroids[0:1], metric='euclidean').flatten()\n",
    "    \n",
    "    for i in range(1, k):\n",
    "        # Choose the next centroid randomly, so that the probability for each data point to be chosen\n",
    "        # is directly proportional to its squared distance from the nearest centroid.\n",
    "        # Roughtly speaking, a new centroid should be as far as from ohter centroids as possible.\n",
    "        idx = np.random.choice(data.shape[0], 1, p=distances/sum(distances))\n",
    "        centroids[i] = data[idx,:].toarray()\n",
    "        \n",
    "        # Now compute distances from the centroids to all data points\n",
    "        distances = np.min(pairwise_distances(data, centroids[0:i+1], metric='euclidean'),axis=1)\n",
    "    \n",
    "    return centroids"
   ]
  },
  {
   "cell_type": "markdown",
   "metadata": {
    "id": "ngnC2CyZo2g_"
   },
   "source": [
    "Let's now rerun k-means with 10 clusters using the same set of seeds, but always using k-means++ to initialize the algorithm.\n",
    "\n",
    "This may take several minutes to run."
   ]
  },
  {
   "cell_type": "code",
   "execution_count": 116,
   "metadata": {
    "id": "ul1EL9Kco2g_"
   },
   "outputs": [
    {
     "name": "stdout",
     "output_type": "stream",
     "text": [
      "seed=000000, heterogeneity=5563.24947\n",
      "seed=020000, heterogeneity=5569.53006\n",
      "seed=040000, heterogeneity=5563.95996\n",
      "seed=060000, heterogeneity=5567.74848\n",
      "seed=080000, heterogeneity=5557.53663\n",
      "seed=100000, heterogeneity=5559.45113\n",
      "seed=120000, heterogeneity=5559.02003\n",
      "CPU times: user 3.57 s, sys: 28.3 ms, total: 3.6 s\n",
      "Wall time: 3.6 s\n"
     ]
    }
   ],
   "source": [
    "%%time\n",
    "\n",
    "k = 10\n",
    "heterogeneity_smart = {}\n",
    "for seed in [0, 20000, 40000, 60000, 80000, 100000, 120000]:\n",
    "    initial_centroids = smart_initialize(tf_idf, k, seed)\n",
    "    centroids, cluster_assignment = kmeans(tf_idf, k, initial_centroids, max_iter=400,\n",
    "                                           record_heterogeneity=None, verbose=False)\n",
    "    # To save time, compute heterogeneity only once in the end\n",
    "    heterogeneity_smart[seed] = compute_heterogeneity(tf_idf, k, centroids, cluster_assignment)\n",
    "    print(f'seed={seed:06d}, heterogeneity={heterogeneity_smart[seed]:.5f}')"
   ]
  },
  {
   "cell_type": "markdown",
   "metadata": {
    "id": "vlFP9d2zo2g_"
   },
   "source": [
    "Let's compare the set of cluster heterogeneities we got from our 7 restarts of k-means using random initialization compared to the 7 restarts of k-means using k-means++ as a smart initialization.\n",
    "\n",
    "The following code produces a [box plot](http://matplotlib.org/api/pyplot_api.html) for each of these methods, indicating the spread of values produced by each method."
   ]
  },
  {
   "cell_type": "code",
   "execution_count": 117,
   "metadata": {
    "id": "_xQV241Eo2g_"
   },
   "outputs": [
    {
     "data": {
      "image/png": "[encoded data removed]",
      "text/plain": [
       "<Figure size 720x360 with 1 Axes>"
      ]
     },
     "metadata": {
      "needs_background": "light"
     },
     "output_type": "display_data"
    }
   ],
   "source": [
    "plt.figure(figsize=(10,5))\n",
    "plt.boxplot([list(heterogeneity.values()), list(heterogeneity_smart.values())], vert=False)\n",
    "\n",
    "plt.yticks([1, 2], ['k-means', 'k-means++'])\n",
    "plt.xlabel('Heterogeneity')\n",
    "plt.title('Heterogeneity distribution of k-means vs k-means++')\n",
    "\n",
    "plt.rcParams.update({'font.size': 16})\n",
    "plt.tight_layout()"
   ]
  },
  {
   "cell_type": "markdown",
   "metadata": {
    "id": "rVskmXloo2hA"
   },
   "source": [
    "A few things to notice from the box plot:\n",
    "* Random initialization results in a worse clustering than k-means++ on average.\n",
    "* The best result of k-means++ is better than the best result of random initialization.\n",
    "\n",
    "## 🔍 **Question 7** kmeans_multiple_runs\n",
    "**In general, you should run k-means at least a few times with different initializations and then return the run resulting in the lowest heterogeneity.** Let us write a function that runs k-means multiple times and picks the best run that minimizes heterogeneity.\n",
    "\n",
    "Now we are ready to fill in the blanks the function `kmeans_multiple_runs(data, k, max_iter, verbose=False)`. \n",
    "\n"
   ]
  },
  {
   "cell_type": "code",
   "execution_count": 118,
   "metadata": {
    "id": "wH93hy8Uo2hA"
   },
   "outputs": [],
   "source": [
    "### edTest(test_q7_kmeans_multiple_runs) ###\n",
    "\n",
    "# TODO Fill in the ...\n",
    "def kmeans_multiple_runs(data, k, max_iter, seeds, verbose=False):\n",
    "    \"\"\"\n",
    "    Runs kmeans multiple times \n",
    "    \n",
    "    Parameters:  \n",
    "      - data     - is an np.array of float values of length n.\n",
    "      - k        - number of centroids\n",
    "      - max_iter - maximum number of iterations to run the algorithm\n",
    "      - seeds    - Either number of seeds to try (generated randomly) or a list of seed values\n",
    "      - verbose  - set to True to display progress. Defaults to False and won't display progress.\n",
    "    \n",
    "    Returns  \n",
    "      - final_centroids          - A np.array of length k for the centroids upon \n",
    "                                   termination of the algorithm.\n",
    "      - final_cluster_assignment - A np.array of length n where the ith index represents which \n",
    "                                   centroid data[i] was assigned to. The assignments range between \n",
    "                                   the values 0, ..., k-1 upon termination of the algorithm.\n",
    "    \"\"\"    \n",
    "    min_heterogeneity_achieved = float('inf')\n",
    "    final_centroids = None\n",
    "    final_cluster_assignment = None\n",
    "    if type(seeds) == int:\n",
    "        seeds = np.random.randint(low=0, high=10000, size=seeds)\n",
    "    \n",
    "    num_runs = len(seeds)\n",
    "    \n",
    "    for seed in seeds:\n",
    "        # Use k-means++ initialization: Fill in the blank\n",
    "        # Set record_heterogeneity=None because we will compute that once at the end.\n",
    "        initial_centroids = smart_initialize(data, k, seed=None)\n",
    "\n",
    "        # Run k-means: Fill in the blank \n",
    "        centroids, cluster_assignment = kmeans(data, k, initial_centroids, max_iter=max_iter, record_heterogeneity=None, verbose=verbose)\n",
    "        \n",
    "        # To save time, compute heterogeneity only once in the end\n",
    "        seed_heterogeneity = compute_heterogeneity(data, k, centroids, cluster_assignment)\n",
    "        \n",
    "        if verbose:\n",
    "            print(f'seed={seed:06d}, heterogeneity={seed_heterogeneity:.5f}')\n",
    "        \n",
    "        # if current measurement of heterogeneity is lower than previously seen,\n",
    "        # update the minimum record of heterogeneity.\n",
    "        if seed_heterogeneity < min_heterogeneity_achieved:\n",
    "            min_heterogeneity_achieved = seed_heterogeneity\n",
    "            final_centroids = centroids\n",
    "            final_cluster_assignment = cluster_assignment\n",
    "    \n",
    "    # Return the centroids and cluster assignments that minimize heterogeneity.\n",
    "    return final_centroids, final_cluster_assignment"
   ]
  },
  {
   "cell_type": "markdown",
   "metadata": {
    "id": "n1dX6FT1o2hA"
   },
   "source": [
    "## How to choose K"
   ]
  },
  {
   "cell_type": "markdown",
   "metadata": {
    "id": "VB4_wTKso2hA"
   },
   "source": [
    "Since we are measuring the tightness of the clusters, a higher value of K reduces the possible heterogeneity metric by definition.  For example, if we have N data points and set K=N clusters, then we could have 0 cluster heterogeneity by setting the N centroids equal to the values of the N data points. (Note: Not all runs for larger K will result in lower heterogeneity than a single run with smaller K due to local optima.)  Let's explore this general trend for ourselves by performing the following analysis.\n",
    "\n",
    "\n",
    "This code block will take some times to complete. It will try 5 values of `k` and for each `k`, will try 3 different seeds. The cell will print its progress to help you know how far it has made. When `k` is larger, it will take longer to run (why might that be?)!"
   ]
  },
  {
   "cell_type": "code",
   "execution_count": 119,
   "metadata": {
    "id": "Iq_wCe8Vo2hA"
   },
   "outputs": [
    {
     "name": "stdout",
     "output_type": "stream",
     "text": [
      "Running k = 2\n",
      "0\n",
      "1\n",
      "      642 elements changed their cluster assignment.\n",
      "2\n",
      "      763 elements changed their cluster assignment.\n",
      "3\n",
      "       58 elements changed their cluster assignment.\n",
      "4\n",
      "        2 elements changed their cluster assignment.\n",
      "5\n",
      "seed=020000, heterogeneity=5668.36228\n",
      "0\n",
      "1\n",
      "     1351 elements changed their cluster assignment.\n",
      "2\n",
      "      334 elements changed their cluster assignment.\n",
      "3\n",
      "      121 elements changed their cluster assignment.\n",
      "4\n",
      "       60 elements changed their cluster assignment.\n",
      "5\n",
      "       33 elements changed their cluster assignment.\n",
      "6\n",
      "       18 elements changed their cluster assignment.\n",
      "7\n",
      "       20 elements changed their cluster assignment.\n",
      "8\n",
      "       24 elements changed their cluster assignment.\n",
      "9\n",
      "       20 elements changed their cluster assignment.\n",
      "10\n",
      "       24 elements changed their cluster assignment.\n",
      "11\n",
      "       14 elements changed their cluster assignment.\n",
      "12\n",
      "       14 elements changed their cluster assignment.\n",
      "13\n",
      "       11 elements changed their cluster assignment.\n",
      "14\n",
      "        7 elements changed their cluster assignment.\n",
      "15\n",
      "        9 elements changed their cluster assignment.\n",
      "16\n",
      "       12 elements changed their cluster assignment.\n",
      "17\n",
      "       10 elements changed their cluster assignment.\n",
      "18\n",
      "       12 elements changed their cluster assignment.\n",
      "19\n",
      "       17 elements changed their cluster assignment.\n",
      "20\n",
      "       14 elements changed their cluster assignment.\n",
      "21\n",
      "       15 elements changed their cluster assignment.\n",
      "22\n",
      "       15 elements changed their cluster assignment.\n",
      "23\n",
      "       19 elements changed their cluster assignment.\n",
      "24\n",
      "       27 elements changed their cluster assignment.\n",
      "25\n",
      "       28 elements changed their cluster assignment.\n",
      "26\n",
      "       29 elements changed their cluster assignment.\n",
      "27\n",
      "       35 elements changed their cluster assignment.\n",
      "28\n",
      "       46 elements changed their cluster assignment.\n",
      "29\n",
      "       68 elements changed their cluster assignment.\n",
      "30\n",
      "       89 elements changed their cluster assignment.\n",
      "31\n",
      "      135 elements changed their cluster assignment.\n",
      "32\n",
      "      157 elements changed their cluster assignment.\n",
      "33\n",
      "      177 elements changed their cluster assignment.\n",
      "34\n",
      "      188 elements changed their cluster assignment.\n",
      "35\n",
      "      161 elements changed their cluster assignment.\n",
      "36\n",
      "      167 elements changed their cluster assignment.\n",
      "37\n",
      "      217 elements changed their cluster assignment.\n",
      "38\n",
      "      260 elements changed their cluster assignment.\n",
      "39\n",
      "      297 elements changed their cluster assignment.\n",
      "40\n",
      "      271 elements changed their cluster assignment.\n",
      "41\n",
      "       81 elements changed their cluster assignment.\n",
      "42\n",
      "       22 elements changed their cluster assignment.\n",
      "43\n",
      "        6 elements changed their cluster assignment.\n",
      "44\n",
      "        1 elements changed their cluster assignment.\n",
      "45\n",
      "seed=040000, heterogeneity=5668.36228\n",
      "0\n",
      "1\n",
      "      649 elements changed their cluster assignment.\n",
      "2\n",
      "      173 elements changed their cluster assignment.\n",
      "3\n",
      "      137 elements changed their cluster assignment.\n",
      "4\n",
      "      158 elements changed their cluster assignment.\n",
      "5\n",
      "      167 elements changed their cluster assignment.\n",
      "6\n",
      "      144 elements changed their cluster assignment.\n",
      "7\n",
      "       94 elements changed their cluster assignment.\n",
      "8\n",
      "       60 elements changed their cluster assignment.\n",
      "9\n",
      "       52 elements changed their cluster assignment.\n",
      "10\n",
      "       37 elements changed their cluster assignment.\n",
      "11\n",
      "       26 elements changed their cluster assignment.\n",
      "12\n",
      "       15 elements changed their cluster assignment.\n",
      "13\n",
      "        6 elements changed their cluster assignment.\n",
      "14\n",
      "        3 elements changed their cluster assignment.\n",
      "15\n",
      "        3 elements changed their cluster assignment.\n",
      "16\n",
      "        4 elements changed their cluster assignment.\n",
      "17\n",
      "        6 elements changed their cluster assignment.\n",
      "18\n",
      "        7 elements changed their cluster assignment.\n",
      "19\n",
      "        4 elements changed their cluster assignment.\n",
      "20\n",
      "        4 elements changed their cluster assignment.\n",
      "21\n",
      "        4 elements changed their cluster assignment.\n",
      "22\n",
      "        3 elements changed their cluster assignment.\n",
      "23\n",
      "        1 elements changed their cluster assignment.\n",
      "24\n",
      "        2 elements changed their cluster assignment.\n",
      "25\n",
      "        2 elements changed their cluster assignment.\n",
      "26\n",
      "        2 elements changed their cluster assignment.\n",
      "27\n",
      "seed=080000, heterogeneity=5687.79459\n",
      "Running k = 10\n",
      "0\n",
      "1\n",
      "     5750 elements changed their cluster assignment.\n",
      "2\n",
      "     1517 elements changed their cluster assignment.\n",
      "3\n",
      "     1027 elements changed their cluster assignment.\n",
      "4\n",
      "      873 elements changed their cluster assignment.\n",
      "5\n",
      "      624 elements changed their cluster assignment.\n",
      "6\n",
      "      531 elements changed their cluster assignment.\n",
      "7\n",
      "      399 elements changed their cluster assignment.\n",
      "8\n",
      "      337 elements changed their cluster assignment.\n",
      "9\n",
      "      305 elements changed their cluster assignment.\n",
      "10\n",
      "      237 elements changed their cluster assignment.\n",
      "11\n",
      "      134 elements changed their cluster assignment.\n",
      "12\n",
      "       73 elements changed their cluster assignment.\n",
      "13\n",
      "       45 elements changed their cluster assignment.\n",
      "14\n",
      "       32 elements changed their cluster assignment.\n",
      "15\n",
      "       49 elements changed their cluster assignment.\n",
      "16\n",
      "       44 elements changed their cluster assignment.\n",
      "17\n",
      "       37 elements changed their cluster assignment.\n",
      "18\n",
      "       30 elements changed their cluster assignment.\n",
      "19\n",
      "       45 elements changed their cluster assignment.\n",
      "20\n",
      "       33 elements changed their cluster assignment.\n",
      "21\n",
      "       40 elements changed their cluster assignment.\n",
      "22\n",
      "       29 elements changed their cluster assignment.\n",
      "23\n",
      "       27 elements changed their cluster assignment.\n",
      "24\n",
      "       22 elements changed their cluster assignment.\n",
      "25\n",
      "       13 elements changed their cluster assignment.\n",
      "26\n",
      "        9 elements changed their cluster assignment.\n",
      "27\n",
      "        3 elements changed their cluster assignment.\n",
      "28\n",
      "seed=020000, heterogeneity=5571.45755\n",
      "0\n",
      "1\n",
      "     6602 elements changed their cluster assignment.\n",
      "2\n",
      "     3093 elements changed their cluster assignment.\n",
      "3\n",
      "     1792 elements changed their cluster assignment.\n",
      "4\n",
      "      897 elements changed their cluster assignment.\n",
      "5\n",
      "      892 elements changed their cluster assignment.\n",
      "6\n",
      "      710 elements changed their cluster assignment.\n",
      "7\n",
      "      827 elements changed their cluster assignment.\n",
      "8\n",
      "      941 elements changed their cluster assignment.\n",
      "9\n",
      "      842 elements changed their cluster assignment.\n",
      "10\n",
      "      674 elements changed their cluster assignment.\n",
      "11\n",
      "      632 elements changed their cluster assignment.\n",
      "12\n",
      "      692 elements changed their cluster assignment.\n",
      "13\n",
      "      624 elements changed their cluster assignment.\n",
      "14\n",
      "      443 elements changed their cluster assignment.\n",
      "15\n",
      "      241 elements changed their cluster assignment.\n",
      "16\n",
      "      164 elements changed their cluster assignment.\n",
      "17\n",
      "       69 elements changed their cluster assignment.\n",
      "18\n",
      "       95 elements changed their cluster assignment.\n",
      "19\n",
      "       69 elements changed their cluster assignment.\n",
      "20\n",
      "       45 elements changed their cluster assignment.\n",
      "21\n",
      "       21 elements changed their cluster assignment.\n",
      "22\n",
      "       17 elements changed their cluster assignment.\n",
      "23\n",
      "seed=040000, heterogeneity=5566.88974\n",
      "0\n",
      "1\n",
      "     6967 elements changed their cluster assignment.\n",
      "2\n",
      "     1895 elements changed their cluster assignment.\n",
      "3\n",
      "      923 elements changed their cluster assignment.\n",
      "4\n",
      "      864 elements changed their cluster assignment.\n",
      "5\n",
      "      781 elements changed their cluster assignment.\n",
      "6\n",
      "      642 elements changed their cluster assignment.\n",
      "7\n",
      "      443 elements changed their cluster assignment.\n",
      "8\n",
      "      237 elements changed their cluster assignment.\n",
      "9\n",
      "      159 elements changed their cluster assignment.\n",
      "10\n",
      "      113 elements changed their cluster assignment.\n",
      "11\n",
      "       69 elements changed their cluster assignment.\n",
      "12\n",
      "       55 elements changed their cluster assignment.\n",
      "13\n",
      "       50 elements changed their cluster assignment.\n",
      "14\n",
      "       34 elements changed their cluster assignment.\n",
      "15\n",
      "        7 elements changed their cluster assignment.\n",
      "16\n",
      "       18 elements changed their cluster assignment.\n",
      "17\n",
      "seed=080000, heterogeneity=5555.18245\n",
      "Running k = 25\n",
      "0\n",
      "1\n",
      "    14344 elements changed their cluster assignment.\n",
      "2\n",
      "     6809 elements changed their cluster assignment.\n",
      "3\n",
      "     3737 elements changed their cluster assignment.\n",
      "4\n",
      "     2311 elements changed their cluster assignment.\n",
      "5\n"
     ]
    },
    {
     "name": "stdout",
     "output_type": "stream",
     "text": [
      "     1442 elements changed their cluster assignment.\n",
      "6\n",
      "      793 elements changed their cluster assignment.\n",
      "7\n",
      "      609 elements changed their cluster assignment.\n",
      "8\n",
      "      272 elements changed their cluster assignment.\n",
      "9\n",
      "      161 elements changed their cluster assignment.\n",
      "10\n",
      "      125 elements changed their cluster assignment.\n",
      "11\n",
      "       88 elements changed their cluster assignment.\n",
      "12\n",
      "        7 elements changed their cluster assignment.\n",
      "13\n",
      "seed=020000, heterogeneity=5483.23626\n",
      "0\n",
      "1\n",
      "    13760 elements changed their cluster assignment.\n",
      "2\n",
      "     4623 elements changed their cluster assignment.\n",
      "3\n",
      "     2859 elements changed their cluster assignment.\n",
      "4\n",
      "     2285 elements changed their cluster assignment.\n",
      "5\n",
      "     2120 elements changed their cluster assignment.\n",
      "6\n",
      "     1619 elements changed their cluster assignment.\n",
      "7\n",
      "     1199 elements changed their cluster assignment.\n",
      "8\n",
      "     1043 elements changed their cluster assignment.\n",
      "9\n",
      "      884 elements changed their cluster assignment.\n",
      "10\n",
      "      698 elements changed their cluster assignment.\n",
      "11\n",
      "      570 elements changed their cluster assignment.\n",
      "12\n",
      "      615 elements changed their cluster assignment.\n",
      "13\n",
      "      487 elements changed their cluster assignment.\n",
      "14\n",
      "      427 elements changed their cluster assignment.\n",
      "15\n",
      "      230 elements changed their cluster assignment.\n",
      "16\n",
      "      277 elements changed their cluster assignment.\n",
      "17\n",
      "      257 elements changed their cluster assignment.\n",
      "18\n",
      "      180 elements changed their cluster assignment.\n",
      "19\n",
      "      201 elements changed their cluster assignment.\n",
      "20\n",
      "      149 elements changed their cluster assignment.\n",
      "21\n",
      "      126 elements changed their cluster assignment.\n",
      "22\n",
      "       97 elements changed their cluster assignment.\n",
      "23\n",
      "      100 elements changed their cluster assignment.\n",
      "24\n",
      "       49 elements changed their cluster assignment.\n",
      "25\n",
      "       21 elements changed their cluster assignment.\n",
      "26\n",
      "       16 elements changed their cluster assignment.\n",
      "27\n",
      "        7 elements changed their cluster assignment.\n",
      "28\n",
      "       19 elements changed their cluster assignment.\n",
      "29\n",
      "seed=040000, heterogeneity=5490.83976\n",
      "0\n",
      "1\n",
      "    10101 elements changed their cluster assignment.\n",
      "2\n",
      "     5126 elements changed their cluster assignment.\n",
      "3\n",
      "     3151 elements changed their cluster assignment.\n",
      "4\n",
      "     2271 elements changed their cluster assignment.\n",
      "5\n",
      "     1763 elements changed their cluster assignment.\n",
      "6\n",
      "     1583 elements changed their cluster assignment.\n",
      "7\n",
      "     1224 elements changed their cluster assignment.\n",
      "8\n",
      "      919 elements changed their cluster assignment.\n",
      "9\n",
      "      686 elements changed their cluster assignment.\n",
      "10\n",
      "      488 elements changed their cluster assignment.\n",
      "11\n",
      "      373 elements changed their cluster assignment.\n",
      "12\n",
      "      250 elements changed their cluster assignment.\n",
      "13\n",
      "      116 elements changed their cluster assignment.\n",
      "14\n",
      "      112 elements changed their cluster assignment.\n",
      "15\n",
      "      133 elements changed their cluster assignment.\n",
      "16\n",
      "      127 elements changed their cluster assignment.\n",
      "17\n",
      "      177 elements changed their cluster assignment.\n",
      "18\n",
      "      169 elements changed their cluster assignment.\n",
      "19\n",
      "      279 elements changed their cluster assignment.\n",
      "20\n",
      "      256 elements changed their cluster assignment.\n",
      "21\n",
      "      188 elements changed their cluster assignment.\n",
      "22\n",
      "      146 elements changed their cluster assignment.\n",
      "23\n",
      "       54 elements changed their cluster assignment.\n",
      "24\n",
      "       72 elements changed their cluster assignment.\n",
      "25\n",
      "       23 elements changed their cluster assignment.\n",
      "26\n",
      "seed=080000, heterogeneity=5494.86183\n",
      "Running k = 50\n",
      "0\n",
      "1\n",
      "    24923 elements changed their cluster assignment.\n",
      "2\n",
      "    12479 elements changed their cluster assignment.\n",
      "3\n",
      "     6070 elements changed their cluster assignment.\n",
      "4\n",
      "     3372 elements changed their cluster assignment.\n",
      "5\n",
      "     1902 elements changed their cluster assignment.\n",
      "6\n",
      "     1461 elements changed their cluster assignment.\n",
      "7\n",
      "     1259 elements changed their cluster assignment.\n",
      "8\n",
      "     1151 elements changed their cluster assignment.\n",
      "9\n",
      "      748 elements changed their cluster assignment.\n",
      "10\n",
      "      424 elements changed their cluster assignment.\n",
      "11\n",
      "      384 elements changed their cluster assignment.\n",
      "12\n",
      "      143 elements changed their cluster assignment.\n",
      "13\n",
      "      213 elements changed their cluster assignment.\n",
      "14\n",
      "       14 elements changed their cluster assignment.\n",
      "15\n",
      "        2 elements changed their cluster assignment.\n",
      "16\n",
      "       39 elements changed their cluster assignment.\n",
      "17\n",
      "seed=020000, heterogeneity=5428.47661\n",
      "0\n",
      "1\n",
      "    24303 elements changed their cluster assignment.\n",
      "2\n",
      "    12036 elements changed their cluster assignment.\n",
      "3\n",
      "     8826 elements changed their cluster assignment.\n",
      "4\n",
      "     6375 elements changed their cluster assignment.\n",
      "5\n",
      "     3190 elements changed their cluster assignment.\n",
      "6\n",
      "     2544 elements changed their cluster assignment.\n",
      "7\n",
      "     1437 elements changed their cluster assignment.\n",
      "8\n",
      "      804 elements changed their cluster assignment.\n",
      "9\n",
      "      454 elements changed their cluster assignment.\n",
      "10\n",
      "      135 elements changed their cluster assignment.\n",
      "11\n",
      "      204 elements changed their cluster assignment.\n",
      "12\n",
      "      158 elements changed their cluster assignment.\n",
      "13\n",
      "      122 elements changed their cluster assignment.\n",
      "14\n",
      "      112 elements changed their cluster assignment.\n",
      "15\n",
      "       38 elements changed their cluster assignment.\n",
      "16\n",
      "       78 elements changed their cluster assignment.\n",
      "17\n",
      "       26 elements changed their cluster assignment.\n",
      "18\n",
      "seed=040000, heterogeneity=5416.88869\n",
      "0\n",
      "1\n",
      "    22146 elements changed their cluster assignment.\n",
      "2\n",
      "    10776 elements changed their cluster assignment.\n",
      "3\n",
      "     6697 elements changed their cluster assignment.\n",
      "4\n",
      "     4947 elements changed their cluster assignment.\n",
      "5\n",
      "     3176 elements changed their cluster assignment.\n",
      "6\n",
      "     1764 elements changed their cluster assignment.\n",
      "7\n",
      "     1195 elements changed their cluster assignment.\n",
      "8\n",
      "      875 elements changed their cluster assignment.\n",
      "9\n",
      "      731 elements changed their cluster assignment.\n",
      "10\n",
      "      427 elements changed their cluster assignment.\n",
      "11\n",
      "      218 elements changed their cluster assignment.\n",
      "12\n",
      "      222 elements changed their cluster assignment.\n",
      "13\n",
      "      271 elements changed their cluster assignment.\n",
      "14\n",
      "      104 elements changed their cluster assignment.\n",
      "15\n",
      "       92 elements changed their cluster assignment.\n",
      "16\n",
      "      132 elements changed their cluster assignment.\n",
      "17\n",
      "       73 elements changed their cluster assignment.\n",
      "18\n",
      "       23 elements changed their cluster assignment.\n",
      "19\n",
      "        1 elements changed their cluster assignment.\n",
      "20\n",
      "seed=080000, heterogeneity=5409.26852\n",
      "Running k = 100\n",
      "0\n",
      "1\n",
      "    31584 elements changed their cluster assignment.\n",
      "2\n",
      "    15286 elements changed their cluster assignment.\n",
      "3\n",
      "     8675 elements changed their cluster assignment.\n",
      "4\n",
      "     5409 elements changed their cluster assignment.\n",
      "5\n",
      "     1936 elements changed their cluster assignment.\n",
      "6\n",
      "      680 elements changed their cluster assignment.\n",
      "7\n",
      "      245 elements changed their cluster assignment.\n",
      "8\n",
      "      124 elements changed their cluster assignment.\n",
      "9\n",
      "       30 elements changed their cluster assignment.\n",
      "10\n",
      "seed=020000, heterogeneity=5313.90735\n",
      "0\n",
      "1\n",
      "    34448 elements changed their cluster assignment.\n",
      "2\n",
      "    15116 elements changed their cluster assignment.\n",
      "3\n",
      "    10060 elements changed their cluster assignment.\n",
      "4\n",
      "     5928 elements changed their cluster assignment.\n",
      "5\n",
      "     3342 elements changed their cluster assignment.\n",
      "6\n",
      "     2004 elements changed their cluster assignment.\n",
      "7\n",
      "     1200 elements changed their cluster assignment.\n",
      "8\n",
      "      751 elements changed their cluster assignment.\n",
      "9\n",
      "      636 elements changed their cluster assignment.\n",
      "10\n",
      "      485 elements changed their cluster assignment.\n",
      "11\n",
      "      269 elements changed their cluster assignment.\n",
      "12\n",
      "      192 elements changed their cluster assignment.\n",
      "13\n",
      "      100 elements changed their cluster assignment.\n",
      "14\n",
      "       57 elements changed their cluster assignment.\n",
      "15\n",
      "       83 elements changed their cluster assignment.\n",
      "16\n",
      "       21 elements changed their cluster assignment.\n",
      "17\n",
      "       80 elements changed their cluster assignment.\n",
      "18\n",
      "seed=040000, heterogeneity=5318.71464\n",
      "0\n",
      "1\n",
      "    37463 elements changed their cluster assignment.\n",
      "2\n",
      "    18569 elements changed their cluster assignment.\n",
      "3\n"
     ]
    },
    {
     "name": "stdout",
     "output_type": "stream",
     "text": [
      "     8610 elements changed their cluster assignment.\n",
      "4\n",
      "     3815 elements changed their cluster assignment.\n",
      "5\n",
      "     2536 elements changed their cluster assignment.\n",
      "6\n",
      "     2023 elements changed their cluster assignment.\n",
      "7\n",
      "     1689 elements changed their cluster assignment.\n",
      "8\n",
      "     1225 elements changed their cluster assignment.\n",
      "9\n",
      "     1016 elements changed their cluster assignment.\n",
      "10\n",
      "     1342 elements changed their cluster assignment.\n",
      "11\n",
      "      582 elements changed their cluster assignment.\n",
      "12\n",
      "      966 elements changed their cluster assignment.\n",
      "13\n",
      "      871 elements changed their cluster assignment.\n",
      "14\n",
      "      941 elements changed their cluster assignment.\n",
      "15\n",
      "      692 elements changed their cluster assignment.\n",
      "16\n",
      "      283 elements changed their cluster assignment.\n",
      "17\n",
      "      303 elements changed their cluster assignment.\n",
      "18\n",
      "      249 elements changed their cluster assignment.\n",
      "19\n",
      "       11 elements changed their cluster assignment.\n",
      "20\n",
      "       50 elements changed their cluster assignment.\n",
      "21\n",
      "       60 elements changed their cluster assignment.\n",
      "22\n",
      "       43 elements changed their cluster assignment.\n",
      "23\n",
      "       64 elements changed their cluster assignment.\n",
      "24\n",
      "       37 elements changed their cluster assignment.\n",
      "25\n",
      "        4 elements changed their cluster assignment.\n",
      "26\n",
      "       16 elements changed their cluster assignment.\n",
      "27\n",
      "seed=080000, heterogeneity=5328.88355\n",
      "CPU times: user 31.9 s, sys: 2.69 s, total: 34.6 s\n",
      "Wall time: 34.5 s\n"
     ]
    },
    {
     "data": {
      "image/png": "[encoded data removed]",
      "text/plain": [
       "<Figure size 504x288 with 1 Axes>"
      ]
     },
     "metadata": {
      "needs_background": "light"
     },
     "output_type": "display_data"
    }
   ],
   "source": [
    "%%time\n",
    "\n",
    "def plot_k_vs_heterogeneity(k_values, heterogeneity_values):\n",
    "    \"\"\"\n",
    "    Given list of k-values and their heterogeneities, will make a plot\n",
    "    showing how heterogeneity varies with k.\n",
    "    \"\"\"\n",
    "    plt.figure(figsize=(7,4))\n",
    "    plt.plot(k_values, heterogeneity_values, linewidth=4)\n",
    "    plt.xlabel('K')\n",
    "    plt.ylabel('Heterogeneity')\n",
    "    plt.title('K vs. Heterogeneity')\n",
    "    plt.rcParams.update({'font.size': 16})\n",
    "    plt.tight_layout()\n",
    "\n",
    "all_centroids = {}\n",
    "all_cluster_assignment = {}\n",
    "heterogeneity_values = []\n",
    "seeds = [20000, 40000, 80000]\n",
    "k_list = [2, 10, 25, 50, 100]\n",
    "\n",
    "for k in k_list:\n",
    "    print(f'Running k = {k}')\n",
    "    heterogeneity = []\n",
    "    all_centroids[k], all_cluster_assignment[k] = kmeans_multiple_runs(tf_idf, k, max_iter=400,\n",
    "                                                                       seeds=seeds, verbose=True)\n",
    "    score = compute_heterogeneity(tf_idf, k, all_centroids[k], all_cluster_assignment[k])\n",
    "    heterogeneity_values.append(score)\n",
    "\n",
    "plot_k_vs_heterogeneity(k_list, heterogeneity_values)"
   ]
  },
  {
   "cell_type": "markdown",
   "metadata": {
    "id": "BeTT70ORo2hA"
   },
   "source": [
    "# Inspecting clusters of documents\n",
    "Let's start visualizing some clustering results to see if we think the clustering makes sense.  We can use such visualizations to help us assess whether we have set K too large or too small for a given application.  Following the theme of this course, we will judge whether the clustering makes sense in the context of document analysis.\n",
    "\n",
    "What are we looking for in a good clustering of documents?\n",
    "* Documents in the same cluster should be similar.\n",
    "* Documents from different clusters should be less similar.\n",
    "\n",
    "So a bad clustering exhibits either of two symptoms:\n",
    "* Documents in a cluster have mixed content.\n",
    "* Documents with similar content are divided up and put into different clusters.\n",
    "\n",
    "To help visualize the clustering, we do the following:\n",
    "* Fetch nearest neighbors of each centroid from the set of documents assigned to that cluster. We will consider these documents as being representative of the cluster.\n",
    "* Print titles and first sentences of those nearest neighbors.\n",
    "* Print top 5 words that have highest tf-idf weights in each centroid."
   ]
  },
  {
   "cell_type": "code",
   "execution_count": 120,
   "metadata": {
    "id": "8mu1z8g_o2hB"
   },
   "outputs": [],
   "source": [
    "def visualize_document_clusters(wiki, tf_idf, centroids, cluster_assignment, k, words, \n",
    "                                display_docs=5):\n",
    "    \"\"\"\n",
    "    Given a set of clustered documents, prints information about the centroids including\n",
    "       - The title and starting sentence of the closest 5 points to each centroid\n",
    "       - The five words that are contained in the clusters documents with the highest TF-IDF.\n",
    "    \n",
    "    Parameters:  \n",
    "      - wiki: original dataframe\n",
    "      - tf_idf: data matrix containing TF-IDF vectors for each document\n",
    "      - centroids: A np.array of length k that contains the centroids for the clustering\n",
    "      - cluster_assignments: A np.array of length N that has the cluster assignments for each row\n",
    "      - k: What value of k is used\n",
    "      - words: List of words in the corpus (should match tf_idf)\n",
    "      - display_odcs: How many documents to show for each cluster (default 5)\n",
    "    \"\"\"\n",
    "    print('=' * 90)\n",
    "\n",
    "    # Visualize each cluster c\n",
    "    for c in range(k):\n",
    "        # Cluster heading\n",
    "        print(f'Cluster {c}  ({(cluster_assignment == c).sum()} docs)'),\n",
    "        # Print top 5 words with largest TF-IDF weights in the cluster\n",
    "        idx = centroids[c].argsort()[::-1]\n",
    "        for i in range(5): # Print each word along with the TF-IDF weight\n",
    "            print(f'{words[idx[i]]}:{centroids[c,idx[i]]:.3f}', end=' '),\n",
    "        print()\n",
    "        \n",
    "        if display_docs > 0:\n",
    "            print()\n",
    "            # Compute distances from the centroid to all data points in the cluster,\n",
    "            # and compute nearest neighbors of the centroids within the cluster.\n",
    "            distances = pairwise_distances(tf_idf, centroids[c].reshape(1, -1), metric='euclidean').flatten()\n",
    "            distances[cluster_assignment!=c] = float('inf') # remove non-members from consideration\n",
    "            nearest_neighbors = distances.argsort()\n",
    "            # For the nearest neighbors, print the title as well as first 180 characters of text.\n",
    "            # Wrap the text at 80-character mark.\n",
    "            for i in range(display_docs):\n",
    "                text = ' '.join(wiki.iloc[nearest_neighbors[i]]['text'].split(None, 25)[0:25])\n",
    "                print(f'* {wiki.iloc[nearest_neighbors[i]][\"name\"]:50s} {distances[nearest_neighbors[i]]:.5f}')\n",
    "                print(f'  {text[:90]}')\n",
    "                if len(text) > 90:\n",
    "                    print(f'  {text[90:180]}')\n",
    "                print()\n",
    "        print('=' * 90)"
   ]
  },
  {
   "cell_type": "markdown",
   "metadata": {
    "id": "bfTeu1QLo2hI"
   },
   "source": [
    "Let us first look at the 2 cluster case (K=2)."
   ]
  },
  {
   "cell_type": "code",
   "execution_count": 121,
   "metadata": {
    "id": "GYmvP9-zo2hJ"
   },
   "outputs": [
    {
     "name": "stdout",
     "output_type": "stream",
     "text": [
      "==========================================================================================\n",
      "Cluster 0  (4852 docs)\n",
      "he:0.075 his:0.042 was:0.040 for:0.038 as:0.033 \n",
      "\n",
      "* Wilson McLean                                      0.94057\n",
      "  wilson mclean born 1937 is a scottish illustrator and artist he has illustrated primarily \n",
      "  in the field of advertising but has also provided cover art\n",
      "\n",
      "* Vipin Sharma                                       0.94801\n",
      "  vipin sharma is an indian actor born in new delhi he is a graduate of national school of d\n",
      "  rama new delhi india and the canadian\n",
      "\n",
      "* Nicky Banger                                       0.95174\n",
      "  nicholas lee banger born 25 february 1971 is a retired english professional footballer he \n",
      "  is currently head of commercial operations with woking fcbanger was born\n",
      "\n",
      "* Billy Bingham                                      0.95206\n",
      "  william laurence billy bingham mbe born 5 august 1931 is a former international footballer\n",
      "   and football manager who now works as a scout for english\n",
      "\n",
      "* Wally Whitehurst                                   0.95285\n",
      "  walter richard whitehurst born april 11 1964 in shreveport louisiana is a former righthand\n",
      "  ed pitcher in major league baseball who played from 1989 to 1996\n",
      "\n",
      "==========================================================================================\n",
      "Cluster 1  (1055 docs)\n",
      "she:0.169 her:0.117 was:0.040 for:0.038 as:0.033 \n",
      "\n",
      "* Bhama Srinivasan                                   0.89235\n",
      "  bhama srinivasan april 22 1935 is a mathematician known for her work in the representation\n",
      "   theory of finite groups her contributions were honored with the\n",
      "\n",
      "* Delores Brumfield                                  0.89849\n",
      "  delores brumfield white born may 26 1932 is a former utility infielderoutfielder who playe\n",
      "  d from 1947 through 1953 in the allamerican girls professional baseball league\n",
      "\n",
      "* Natashia Williams                                  0.90086\n",
      "  natashia williamsblach born august 2 1978 is an american actress and former wonderbra camp\n",
      "  aign model who is perhaps best known for her role as shane\n",
      "\n",
      "* Gila Golan                                         0.90518\n",
      "  gila golan hebrew born 1940 is a polishborn israeli former fashion model and actressgolan \n",
      "  was born in krakw poland around 1940 her exact birthday is\n",
      "\n",
      "* Bette McLaurin                                     0.90751\n",
      "  bette mclaurin born c1929 is an africanamerican singer best known for her jazzinfluenced b\n",
      "  allad and rb performances in the 1950s two of her recordings i\n",
      "\n",
      "==========================================================================================\n"
     ]
    }
   ],
   "source": [
    "k = 2\n",
    "visualize_document_clusters(wiki, tf_idf, all_centroids[k], all_cluster_assignment[k], k, words)"
   ]
  },
  {
   "cell_type": "markdown",
   "metadata": {
    "id": "vRxFMTbCo2hJ"
   },
   "source": [
    "Both clusters have mixed content, although clearly cluster 0 are all women and cluster 1 are all men:\n",
    "\n",
    "It would be better if we sub-divided into more categories. So let us use more clusters. How about `K=10`?"
   ]
  },
  {
   "cell_type": "code",
   "execution_count": 122,
   "metadata": {
    "id": "6wyouWqqo2hJ",
    "scrolled": true
   },
   "outputs": [
    {
     "name": "stdout",
     "output_type": "stream",
     "text": [
      "==========================================================================================\n",
      "Cluster 0  (619 docs)\n",
      "he:0.078 university:0.071 research:0.053 at:0.048 professor:0.042 \n",
      "\n",
      "* Elijah Anderson                                    0.92453\n",
      "  elijah anderson is an american sociologist he holds the william k lanman jr professorship \n",
      "  in sociology at yale university where he teaches and directs the\n",
      "\n",
      "* Sal Restivo                                        0.92760\n",
      "  sal restivo born 1940 is a sociologistanthropologist he is a leading contributor to scienc\n",
      "  e studies and in particular to the sociology of mathematical knowledge his\n",
      "\n",
      "* Daniel Berg (educator)                             0.93122\n",
      "  daniel berg is a scientist educator and was the fifteenth president of rensselaer polytech\n",
      "  nic institutehe was born on june 1 1929 in new york city\n",
      "\n",
      "* Stuart Henry (criminologist)                       0.93151\n",
      "  stuart henry is professor of criminal justice and director of the school of public affairs\n",
      "   san diego state university 2006 he has also been appointed\n",
      "\n",
      "* Robert Pollack (biologist)                         0.93384\n",
      "  dr robert pollack is an american biologist who studies the intersections between science a\n",
      "  nd religion he currently works at columbia university where he serves as\n",
      "\n",
      "==========================================================================================\n",
      "Cluster 1  (361 docs)\n",
      "he:0.075 coach:0.052 team:0.048 at:0.046 world:0.041 \n",
      "\n",
      "* Christopher Hedquist                               0.93353\n",
      "  christopher hedquist born june 4 1980 salt lake city utah is an american skeleton racer in\n",
      "   2004 he won the overall european cup becoming the\n",
      "\n",
      "* Mike Houston (American football)                   0.93621\n",
      "  mike houston born c 1971 is an american college football coach currently serving as head c\n",
      "  oach of the citadel bulldogs football team he was named\n",
      "\n",
      "* Marty Krulee                                       0.93705\n",
      "  marty krulee born november 4 1956 is an american world class track and field athlete prima\n",
      "  rily known for running sprint races while never achieving outstanding\n",
      "\n",
      "* Yordanis Garc%C3%ADa                               0.93997\n",
      "  yordanis garca barrisonte spanish pronunciation oranis arsia arisonte born november 21 198\n",
      "  8 in san juan y martnez pinar del ro is a male decathlete from\n",
      "\n",
      "* Otis Harris                                        0.94147\n",
      "  for the singer see damon harrisotis harris born june 30 1982 in edwards mississippi is an \n",
      "  american track field athlete he won the silver medal\n",
      "\n",
      "==========================================================================================\n",
      "Cluster 2  (1346 docs)\n",
      "he:0.061 his:0.041 was:0.037 for:0.036 as:0.031 \n",
      "\n",
      "* Sandro Petrone                                     0.95231\n",
      "  sandro petrone is a foreign war correspondent and anchorman for rai italian state radio an\n",
      "  d television currently working as editor for foreign news for tg2\n",
      "\n",
      "* Bali Rai                                           0.95800\n",
      "  bali rai was born in leicester in 1971 and grew up in a multicultural multiracial communit\n",
      "  y close to the city centre as a child he\n",
      "\n",
      "* Josh Lukevich                                      0.96090\n",
      "  josh lukevich was born on november 9 1976 in seattle washington at the age of 6 he spent a\n",
      "   year traveling across the united statesin\n",
      "\n",
      "* David Benkof                                       0.96207\n",
      "  david benkof born david bianco in 1970 is an american political commentator and entreprene\n",
      "  ur he was raised in st louis missouri and then went to\n",
      "\n",
      "* Mark Law                                           0.96224\n",
      "  mark alexander law born november 1944 is a british journalist and author he lives in londo\n",
      "  nmark law is a former fleet street journalist he is\n",
      "\n",
      "==========================================================================================\n",
      "Cluster 3  (327 docs)\n",
      "film:0.121 he:0.060 for:0.045 television:0.042 films:0.041 \n",
      "\n",
      "* Robert Braiden                                     0.90548\n",
      "  robert braiden is an australian film director and writer born in sydney he grew up in moor\n",
      "  ebank liverpool new south wales and now currently lives\n",
      "\n",
      "* Paul Swadel                                        0.90981\n",
      "  paul swadel is a new zealand film director and producerhe has directed and produced many s\n",
      "  uccessful short films which have screened in competition at cannes\n",
      "\n",
      "* Bruce Redman                                       0.91495\n",
      "  dr bruce redman born 25 april 1960 is an australian film director film critic radio person\n",
      "  ality and media relations manager he currently works for the\n",
      "\n",
      "* Hossein Shahabi                                    0.91619\n",
      "  hossein shahabi persian is an iranian film director screenwriter and film producer he belo\n",
      "  ngs is to the third generation of iranian new wave who was\n",
      "\n",
      "* Matthew Saville                                    0.91760\n",
      "  matthew saville is an australian television and film director who began his career working\n",
      "   as a titles designer for many australian television series several of\n",
      "\n",
      "==========================================================================================\n",
      "Cluster 4  (690 docs)\n",
      "music:0.072 he:0.059 album:0.048 with:0.047 band:0.046 \n",
      "\n",
      "* Graham Ord                                         0.93042\n",
      "  graham ord born 22 march 1961 is an english musician and songwriter he has garnered respec\n",
      "  t internationally as a fine musician and engaging communicator his\n",
      "\n",
      "* David Oei                                          0.93451\n",
      "  david oei chinese name pinyin hung jln surname pronounced wee is hong kongborn american cl\n",
      "  assical pianist b 1950 in hong kongoei was born in hong\n",
      "\n",
      "* Richard Warren (musician)                          0.93576\n",
      "  richard daniel warren born 3 june 1973 is a british musician songwriter and producerhe sig\n",
      "  ned his first record deal with heavenly records at the height\n",
      "\n",
      "* Martin Russell                                     0.93809\n",
      "  martin russell is a recording engineer producer composer and musician he has been a core m\n",
      "  ember of the music group afro celt sound system since\n",
      "\n",
      "* Mark Wilkinson (singer)                            0.93898\n",
      "  mark wilkinson singer born buckinghamshire england is an australian country singersongwrit\n",
      "  er whose lyrical depth gift for melody and impassioned delivery are quickly establishing h\n",
      "\n",
      "==========================================================================================\n",
      "Cluster 5  (182 docs)\n",
      "art:0.159 museum:0.075 gallery:0.052 he:0.048 his:0.045 \n",
      "\n",
      "* Tom Moody (artist)                                 0.87712\n",
      "  tom moody is a visual artist critic and blogger based in new york city he began his career\n",
      "   as a painter using traditional materials but\n",
      "\n",
      "* Michael Hafftka                                    0.87740\n",
      "  michael hafftka is an american figurative expressionist painter living in new york city hi\n",
      "  s work is represented in the permanent collections of a number of\n",
      "\n",
      "* Burton Silverman                                   0.88510\n",
      "  burton silverman born 1928 is an american paintera 1949 graduate of columbia university si\n",
      "  lvermans work has concentrated on as he put it the landscape of\n",
      "\n",
      "* Charles Arnoldi                                    0.88747\n",
      "  charles arnoldi also known as chuck arnoldi and as charles arthur arnoldi is an american p\n",
      "  ainter sculptor and printmaker he was born april 10 1946\n",
      "\n",
      "* Steven Montgomery                                  0.89140\n",
      "  steven montgomery is an american artist born in detroit 1954 most often associated with la\n",
      "  rge scale ceramic sculpture suggesting industrial objects or mechanical detritus he\n",
      "\n",
      "==========================================================================================\n",
      "Cluster 6  (763 docs)\n",
      "he:0.082 was:0.058 as:0.045 for:0.038 from:0.036 \n",
      "\n",
      "* Doug Naysmith                                      0.93318\n",
      "  john douglas naysmith born 1 april 1941 is a british labour cooperative politician who was\n",
      "   the member of parliament mp for bristol north west from\n",
      "\n",
      "* John Garamendi                                     0.93705\n",
      "  john raymond garamendi born january 24 1945 is an american rancher businessman politician \n",
      "  and member of the democratic party who has represented areas of northern\n",
      "\n",
      "* Bill Clinton                                       0.93786\n",
      "  william jefferson bill clinton born william jefferson blythe iii august 19 1946 is an amer\n",
      "  ican politician who served from 1993 to 2001 as the 42nd\n",
      "\n",
      "* Jim Elder (politician)                             0.94113\n",
      "  james peter jim elder born 14 december 1950 is a former australian politician he was a mem\n",
      "  ber of the legislative assembly of queensland from 1989\n",
      "\n",
      "* Levin H. Campbell                                  0.94264\n",
      "  levin hicks campbell born january 2 1927 is an american federal appellate judge on senior \n",
      "  status with the united states court of appeals for the\n",
      "\n",
      "==========================================================================================\n",
      "Cluster 7  (173 docs)\n",
      "league:0.137 baseball:0.123 he:0.096 major:0.070 games:0.063 \n",
      "\n",
      "* Alfonso Pulido                                     0.85985\n",
      "  alfonso pulido manzo born january 23 1957 in tierra blanca veracruz is a former major leag\n",
      "  ue baseball pitcher pulido played parts of three seasons in\n",
      "\n",
      "* Joe Strong                                         0.86372\n",
      "  joseph benjamin strong born september 9 1962 in fairfield california is a former major lea\n",
      "  gue baseball pitcher who played for the florida marlins from 2000\n",
      "\n",
      "* Dom Zanni                                          0.86748\n",
      "  dominick thomas zanni born march 1 1932 in the bronx new york is a former professional bas\n",
      "  eball player a righthanded pitcher he pitched in 111\n",
      "\n",
      "* Clyde Mashore                                      0.86834\n",
      "  clyde wayne mashore born may 29 1945 in concord california is a former major league baseba\n",
      "  ll outfielder who played in 241 games over five seasons\n",
      "\n",
      "* Wally Whitehurst                                   0.87336\n",
      "  walter richard whitehurst born april 11 1964 in shreveport louisiana is a former righthand\n",
      "  ed pitcher in major league baseball who played from 1989 to 1996\n",
      "\n",
      "==========================================================================================\n",
      "Cluster 8  (602 docs)\n",
      "he:0.096 football:0.063 season:0.059 played:0.057 his:0.056 \n",
      "\n",
      "* Tony Smith (footballer, born 1957)                 0.90547\n",
      "  anthony tony smith born 20 february 1957 is a former footballer who played as a central de\n",
      "  fender in the football league in the 1970s and\n",
      "\n",
      "* Steve Bruce                                        0.91523\n",
      "  stephen roger steve bruce born 31 december 1960 is an english football manager and former \n",
      "  player who is currently the manager at hull city born\n",
      "\n",
      "* Shane Hobbs                                        0.91816\n",
      "  shane hobbs born 30 april 1985 is a former professional footballer who played in the footb\n",
      "  all league for bristol rovers in 2003 and currently plays\n",
      "\n",
      "* Roy Keane                                          0.91848\n",
      "  royston maurice roy keane born 10 august 1971 is an irish football manager and former prof\n",
      "  essional football player he is the assistant manager of the\n",
      "\n",
      "* Billy Bingham                                      0.91848\n",
      "  william laurence billy bingham mbe born 5 august 1931 is a former international footballer\n",
      "   and football manager who now works as a scout for english\n",
      "\n",
      "==========================================================================================\n",
      "Cluster 9  (844 docs)\n",
      "she:0.185 her:0.129 was:0.042 for:0.039 as:0.033 \n",
      "\n",
      "* Bhama Srinivasan                                   0.88691\n",
      "  bhama srinivasan april 22 1935 is a mathematician known for her work in the representation\n",
      "   theory of finite groups her contributions were honored with the\n",
      "\n",
      "* Delores Brumfield                                  0.89357\n",
      "  delores brumfield white born may 26 1932 is a former utility infielderoutfielder who playe\n",
      "  d from 1947 through 1953 in the allamerican girls professional baseball league\n",
      "\n",
      "* Natashia Williams                                  0.89674\n",
      "  natashia williamsblach born august 2 1978 is an american actress and former wonderbra camp\n",
      "  aign model who is perhaps best known for her role as shane\n",
      "\n",
      "* Gila Golan                                         0.89928\n",
      "  gila golan hebrew born 1940 is a polishborn israeli former fashion model and actressgolan \n",
      "  was born in krakw poland around 1940 her exact birthday is\n",
      "\n",
      "* Bette McLaurin                                     0.90251\n",
      "  bette mclaurin born c1929 is an africanamerican singer best known for her jazzinfluenced b\n",
      "  allad and rb performances in the 1950s two of her recordings i\n",
      "\n",
      "==========================================================================================\n"
     ]
    }
   ],
   "source": [
    "k = 10\n",
    "visualize_document_clusters(wiki, tf_idf, all_centroids[k], all_cluster_assignment[k], k, words)"
   ]
  },
  {
   "cell_type": "markdown",
   "metadata": {
    "id": "qM0WgtALo2hJ"
   },
   "source": [
    "We no longer have the clear split between men and women. Cluters 0 and 2 appear to be still mixed, but others are quite consistent in content.\n",
    "* Cluster 0: notable women\n",
    "* Cluster 1: baseball players\n",
    "* Cluster 2: researchers, professors\n",
    "* Cluster 3: football(soccer)\n",
    "* Cluster 4: musicians, singers, song writers\n",
    "* Cluster 5: golfers\n",
    "* Cluster 6: painters, scultpers, artists\n",
    "* Cluster 7: orchestral musicians, conductors\n",
    "* Cluster 8: politicians, political personel\n",
    "* Cluster 9: film directors|\n",
    "\n",
    "Clusters are now more pure, but some are qualitatively \"bigger\" than others. For instance, the category of scholars is more general than the category of film directors. Increasing the number of clusters may split larger clusters. Another way to look at the size of cluster is to count the number of articles in each cluster."
   ]
  },
  {
   "cell_type": "code",
   "execution_count": 123,
   "metadata": {
    "id": "usdE_dY-o2hJ"
   },
   "outputs": [
    {
     "data": {
      "text/plain": [
       "array([ 619,  361, 1346,  327,  690,  182,  763,  173,  602,  844])"
      ]
     },
     "execution_count": 123,
     "metadata": {},
     "output_type": "execute_result"
    }
   ],
   "source": [
    "np.bincount(all_cluster_assignment[10])"
   ]
  },
  {
   "cell_type": "markdown",
   "metadata": {
    "id": "TtcTBHm0o2hJ"
   },
   "source": [
    "There appears to be at least some connection between the topical consistency of a cluster and the number of its member data points.\n",
    "\n",
    "Let us visualize the case for K=25. For the sake of brevity, we do not print the content of documents. It turns out that the top words with highest TF-IDF weights in each cluster are representative of the cluster.\n"
   ]
  },
  {
   "cell_type": "code",
   "execution_count": 124,
   "metadata": {
    "id": "WK0kifvoo2hJ"
   },
   "outputs": [
    {
     "name": "stdout",
     "output_type": "stream",
     "text": [
      "==========================================================================================\n",
      "Cluster 0  (476 docs)\n",
      "she:0.215 her:0.096 was:0.046 for:0.038 as:0.034 \n",
      "==========================================================================================\n",
      "Cluster 1  (144 docs)\n",
      "film:0.212 films:0.060 he:0.055 festival:0.050 for:0.045 \n",
      "==========================================================================================\n",
      "Cluster 2  (37 docs)\n",
      "taylor:0.083 he:0.049 was:0.042 his:0.040 for:0.037 \n",
      "==========================================================================================\n",
      "Cluster 3  (92 docs)\n",
      "law:0.185 court:0.092 he:0.077 judge:0.070 district:0.052 \n",
      "==========================================================================================\n",
      "Cluster 4  (28 docs)\n",
      "animation:0.130 animated:0.068 he:0.061 animator:0.055 film:0.054 \n",
      "==========================================================================================\n",
      "Cluster 5  (167 docs)\n",
      "league:0.138 baseball:0.121 he:0.098 major:0.072 games:0.065 \n",
      "==========================================================================================\n",
      "Cluster 6  (505 docs)\n",
      "he:0.090 was:0.060 as:0.048 election:0.043 party:0.042 \n",
      "==========================================================================================\n",
      "Cluster 7  (146 docs)\n",
      "tour:0.112 orchestra:0.105 he:0.087 pga:0.078 music:0.062 \n",
      "==========================================================================================\n",
      "Cluster 8  (96 docs)\n",
      "racing:0.109 he:0.080 championship:0.071 race:0.062 car:0.054 \n",
      "==========================================================================================\n",
      "Cluster 9  (483 docs)\n",
      "he:0.076 university:0.072 research:0.059 at:0.048 professor:0.042 \n",
      "==========================================================================================\n",
      "Cluster 10  (258 docs)\n",
      "published:0.057 book:0.053 he:0.050 novel:0.043 poetry:0.042 \n",
      "==========================================================================================\n",
      "Cluster 11  (65 docs)\n",
      "economics:0.155 economic:0.094 he:0.088 university:0.077 professor:0.049 \n",
      "==========================================================================================\n",
      "Cluster 12  (254 docs)\n",
      "was:0.059 he:0.055 that:0.044 his:0.038 for:0.033 \n",
      "==========================================================================================\n",
      "Cluster 13  (364 docs)\n",
      "her:0.166 she:0.142 for:0.040 was:0.036 as:0.035 \n",
      "==========================================================================================\n",
      "Cluster 14  (66 docs)\n",
      "australian:0.136 australia:0.085 he:0.066 sydney:0.056 was:0.047 \n",
      "==========================================================================================\n",
      "Cluster 15  (137 docs)\n",
      "championships:0.096 he:0.067 world:0.066 at:0.061 olympics:0.058 \n",
      "==========================================================================================\n",
      "Cluster 16  (80 docs)\n",
      "coach:0.238 head:0.093 he:0.072 football:0.066 basketball:0.062 \n",
      "==========================================================================================\n",
      "Cluster 17  (501 docs)\n",
      "he:0.095 football:0.069 league:0.058 season:0.058 played:0.057 \n",
      "==========================================================================================\n",
      "Cluster 18  (444 docs)\n",
      "he:0.074 music:0.055 his:0.047 as:0.042 for:0.042 \n",
      "==========================================================================================\n",
      "Cluster 19  (862 docs)\n",
      "he:0.062 his:0.037 for:0.034 was:0.033 as:0.032 \n",
      "==========================================================================================\n",
      "Cluster 20  (57 docs)\n",
      "bishop:0.135 church:0.095 he:0.094 theology:0.084 catholic:0.059 \n",
      "==========================================================================================\n",
      "Cluster 21  (166 docs)\n",
      "art:0.165 museum:0.079 gallery:0.057 he:0.048 work:0.046 \n",
      "==========================================================================================\n",
      "Cluster 22  (344 docs)\n",
      "album:0.085 band:0.077 he:0.050 with:0.047 released:0.047 \n",
      "==========================================================================================\n",
      "Cluster 23  (72 docs)\n",
      "radio:0.175 show:0.086 he:0.077 on:0.059 for:0.048 \n",
      "==========================================================================================\n",
      "Cluster 24  (63 docs)\n",
      "hockey:0.242 nhl:0.109 season:0.079 ice:0.077 he:0.075 \n",
      "==========================================================================================\n"
     ]
    }
   ],
   "source": [
    "k = 25\n",
    "visualize_document_clusters(wiki, tf_idf, all_centroids[k], all_cluster_assignment[k], k,\n",
    "                            words, display_docs=0) # turn off text for brevity"
   ]
  },
  {
   "cell_type": "markdown",
   "metadata": {
    "id": "gci3rw-Io2hK"
   },
   "source": [
    "Looking at the representative examples and top words, we classify each cluster as follows. Notice the bolded items, which indicate the appearance of a new theme.\n",
    "* Cluster 0: **British labor party**\n",
    "* Cluster 1: **Bishops**\n",
    "* Cluster 2: **danish CEOs**\n",
    "* Cluster 3: baseball\n",
    "* Cluster 4: politicials\n",
    "* Cluster 5: **psychology researchers**\n",
    "* Cluster 6: **medical researchers**\n",
    "* Cluster 7: **republican politicians**\n",
    "* Cluster 8: football(soccer)\n",
    "* Cluster 9: **prime ministers**\n",
    "* Cluster 10: golfers\n",
    "* Cluster 11: coaches\n",
    "* Cluster 12: **lawers**\n",
    "* Cluster 13: researchers, professors\n",
    "* Cluster 14: writers\n",
    "* Cluster 15: artists, museaum workers\n",
    "* Cluster 16: film directors\n",
    "* Cluster 17: musicians\n",
    "* Cluster 18: **airforce commanders**\n",
    "* Cluster 19: orchestral musicians\n",
    "* Cluster 20: *unclear*\n",
    "* Cluster 21: *unclear*\n",
    "* Cluster 22: *unclear*\n",
    "* Cluster 23: politicians\n",
    "* Cluster 24: **hockey players**\n",
    "\n",
    "Indeed, increasing K achieved the desired effect of breaking up large clusters.  Depending on the application, this may or may not be preferable to the K=10 analysis.\n",
    "\n",
    "Let's take it to the extreme and set K=100. We have a suspicion that this value is too large. Let us look at the top words from each cluster:"
   ]
  },
  {
   "cell_type": "code",
   "execution_count": 125,
   "metadata": {
    "id": "8JRj1ck1o2hK"
   },
   "outputs": [
    {
     "name": "stdout",
     "output_type": "stream",
     "text": [
      "==========================================================================================\n",
      "Cluster 0  (2 docs)\n",
      "stearns:0.318 hombs:0.222 homelessness:0.137 yoho:0.133 washington:0.122 \n",
      "==========================================================================================\n",
      "Cluster 1  (18 docs)\n",
      "jersey:0.210 new:0.091 assembly:0.064 state:0.058 he:0.058 \n",
      "==========================================================================================\n",
      "Cluster 2  (38 docs)\n",
      "law:0.303 legal:0.089 he:0.074 school:0.054 university:0.050 \n",
      "==========================================================================================\n",
      "Cluster 3  (10 docs)\n",
      "comedy:0.254 standup:0.172 show:0.107 comedian:0.089 orben:0.069 \n",
      "==========================================================================================\n",
      "Cluster 4  (56 docs)\n",
      "hockey:0.253 nhl:0.117 season:0.086 ice:0.086 he:0.076 \n",
      "==========================================================================================\n",
      "Cluster 5  (38 docs)\n",
      "bbc:0.192 television:0.066 he:0.063 for:0.062 radio:0.055 \n",
      "==========================================================================================\n",
      "Cluster 6  (45 docs)\n",
      "she:0.262 her:0.127 baseball:0.063 was:0.051 girls:0.041 \n",
      "==========================================================================================\n",
      "Cluster 7  (118 docs)\n",
      "he:0.072 university:0.062 research:0.050 at:0.041 society:0.037 \n",
      "==========================================================================================\n",
      "Cluster 8  (32 docs)\n",
      "theatre:0.268 play:0.057 directed:0.056 at:0.055 plays:0.047 \n",
      "==========================================================================================\n",
      "Cluster 9  (8 docs)\n",
      "war:0.117 communist:0.073 yugoslavia:0.068 victims:0.065 his:0.063 \n",
      "==========================================================================================\n",
      "Cluster 10  (121 docs)\n",
      "art:0.190 museum:0.100 gallery:0.070 he:0.053 his:0.049 \n",
      "==========================================================================================\n",
      "Cluster 11  (37 docs)\n",
      "opera:0.317 she:0.073 at:0.048 with:0.046 he:0.043 \n",
      "==========================================================================================\n",
      "Cluster 12  (9 docs)\n",
      "croatian:0.133 he:0.082 formula:0.073 todori:0.070 enduro:0.067 \n",
      "==========================================================================================\n",
      "Cluster 13  (15 docs)\n",
      "wrestling:0.254 wwe:0.126 wrestler:0.090 champion:0.080 championship:0.078 \n",
      "==========================================================================================\n",
      "Cluster 14  (55 docs)\n",
      "research:0.095 he:0.076 university:0.051 medicine:0.049 medical:0.044 \n",
      "==========================================================================================\n",
      "Cluster 15  (42 docs)\n",
      "music:0.102 he:0.067 his:0.058 los:0.045 album:0.042 \n",
      "==========================================================================================\n",
      "Cluster 16  (25 docs)\n",
      "world:0.100 champion:0.082 olympic:0.074 team:0.059 championships:0.058 \n",
      "==========================================================================================\n",
      "Cluster 17  (40 docs)\n",
      "governor:0.181 state:0.074 he:0.064 was:0.061 democratic:0.056 \n",
      "==========================================================================================\n",
      "Cluster 18  (112 docs)\n",
      "novel:0.080 published:0.070 poetry:0.064 her:0.058 she:0.057 \n",
      "==========================================================================================\n",
      "Cluster 19  (34 docs)\n",
      "music:0.057 hop:0.053 hip:0.052 for:0.051 has:0.048 \n",
      "==========================================================================================\n",
      "Cluster 20  (230 docs)\n",
      "her:0.186 she:0.168 was:0.037 for:0.034 with:0.033 \n",
      "==========================================================================================\n",
      "Cluster 21  (73 docs)\n",
      "coach:0.221 football:0.087 head:0.085 he:0.072 coaching:0.057 \n",
      "==========================================================================================\n",
      "Cluster 22  (11 docs)\n",
      "fc:0.104 club:0.100 season:0.100 ligue:0.076 he:0.075 \n",
      "==========================================================================================\n",
      "Cluster 23  (23 docs)\n",
      "art:0.071 video:0.068 she:0.067 for:0.048 design:0.045 \n",
      "==========================================================================================\n",
      "Cluster 24  (3 docs)\n",
      "rugby:0.274 tuilagi:0.204 watkins:0.195 newport:0.175 gwent:0.156 \n",
      "==========================================================================================\n",
      "Cluster 25  (46 docs)\n",
      "league:0.130 runs:0.123 baseball:0.107 he:0.089 batted:0.080 \n",
      "==========================================================================================\n",
      "Cluster 26  (17 docs)\n",
      "rabbi:0.201 jewish:0.156 he:0.071 religion:0.058 religious:0.057 \n",
      "==========================================================================================\n",
      "Cluster 27  (14 docs)\n",
      "he:0.066 his:0.051 has:0.051 sculpture:0.048 tap:0.048 \n",
      "==========================================================================================\n",
      "Cluster 28  (47 docs)\n",
      "computer:0.082 he:0.072 software:0.061 computing:0.049 university:0.048 \n",
      "==========================================================================================\n",
      "Cluster 29  (85 docs)\n",
      "racing:0.097 he:0.079 chess:0.079 championship:0.076 poker:0.055 \n",
      "==========================================================================================\n",
      "Cluster 30  (73 docs)\n",
      "orchestra:0.199 music:0.121 symphony:0.106 philharmonic:0.071 chamber:0.066 \n",
      "==========================================================================================\n",
      "Cluster 31  (241 docs)\n",
      "he:0.087 party:0.067 was:0.064 election:0.063 as:0.044 \n",
      "==========================================================================================\n",
      "Cluster 32  (19 docs)\n",
      "austrian:0.092 police:0.070 mayer:0.062 he:0.060 his:0.050 \n",
      "==========================================================================================\n",
      "Cluster 33  (91 docs)\n",
      "he:0.083 research:0.078 university:0.065 science:0.064 engineering:0.050 \n",
      "==========================================================================================\n",
      "Cluster 34  (17 docs)\n",
      "episode:0.081 jordan:0.063 as:0.043 his:0.042 he:0.042 \n",
      "==========================================================================================\n",
      "Cluster 35  (14 docs)\n",
      "language:0.171 she:0.073 linguistics:0.071 psychology:0.068 university:0.060 \n",
      "==========================================================================================\n",
      "Cluster 36  (27 docs)\n",
      "animation:0.110 film:0.082 animated:0.078 he:0.058 for:0.056 \n",
      "==========================================================================================\n",
      "Cluster 37  (15 docs)\n",
      "gael:0.138 election:0.125 general:0.109 fine:0.107 dublin:0.106 \n",
      "==========================================================================================\n",
      "Cluster 38  (140 docs)\n",
      "he:0.089 film:0.069 actor:0.055 his:0.053 as:0.046 \n",
      "==========================================================================================\n",
      "Cluster 39  (45 docs)\n",
      "air:0.116 command:0.090 commander:0.082 he:0.075 force:0.074 \n",
      "==========================================================================================\n",
      "Cluster 40  (21 docs)\n",
      "miss:0.333 pageant:0.169 she:0.156 usa:0.114 her:0.090 \n",
      "==========================================================================================\n",
      "Cluster 41  (122 docs)\n",
      "league:0.138 baseball:0.125 he:0.102 major:0.077 season:0.070 \n",
      "==========================================================================================\n",
      "Cluster 42  (34 docs)\n",
      "dj:0.122 radio:0.091 show:0.069 he:0.067 his:0.057 \n",
      "==========================================================================================\n",
      "Cluster 43  (64 docs)\n",
      "he:0.069 editor:0.060 book:0.058 for:0.045 published:0.042 \n",
      "==========================================================================================\n",
      "Cluster 44  (50 docs)\n",
      "tour:0.303 pga:0.226 golf:0.128 he:0.112 his:0.079 \n",
      "==========================================================================================\n",
      "Cluster 45  (8 docs)\n",
      "hurling:0.361 cork:0.236 intercounty:0.160 tipperary:0.154 munster:0.139 \n",
      "==========================================================================================\n",
      "Cluster 46  (2 docs)\n",
      "favre:0.235 godard:0.207 valrie:0.165 exh:0.148 france:0.127 \n",
      "==========================================================================================\n",
      "Cluster 47  (46 docs)\n",
      "marathon:0.144 metres:0.138 championships:0.133 she:0.106 athletics:0.086 \n",
      "==========================================================================================\n",
      "Cluster 48  (107 docs)\n",
      "radio:0.088 he:0.066 sports:0.058 for:0.055 on:0.054 \n",
      "==========================================================================================\n",
      "Cluster 49  (19 docs)\n",
      "ocean:0.072 swim:0.064 swimming:0.063 he:0.062 world:0.041 \n",
      "==========================================================================================\n",
      "Cluster 50  (8 docs)\n",
      "russian:0.130 bridgeman:0.086 yerevan:0.084 sargsyan:0.081 1st:0.076 \n",
      "==========================================================================================\n",
      "Cluster 51  (65 docs)\n",
      "olympics:0.083 championships:0.078 team:0.063 at:0.061 he:0.059 \n",
      "==========================================================================================\n",
      "Cluster 52  (148 docs)\n"
     ]
    },
    {
     "name": "stdout",
     "output_type": "stream",
     "text": [
      "music:0.125 he:0.075 jazz:0.066 piano:0.052 with:0.051 \n",
      "==========================================================================================\n",
      "Cluster 53  (67 docs)\n",
      "minister:0.198 he:0.090 was:0.064 prime:0.062 as:0.052 \n",
      "==========================================================================================\n",
      "Cluster 54  (4 docs)\n",
      "gyllenhammar:0.151 exhibition:0.148 sweden:0.140 stockholm:0.125 her:0.121 \n",
      "==========================================================================================\n",
      "Cluster 55  (30 docs)\n",
      "photography:0.076 photographer:0.061 he:0.058 fashion:0.054 his:0.051 \n",
      "==========================================================================================\n",
      "Cluster 56  (24 docs)\n",
      "band:0.129 drummer:0.083 rock:0.068 metal:0.058 bands:0.057 \n",
      "==========================================================================================\n",
      "Cluster 57  (36 docs)\n",
      "digital:0.071 entertainment:0.059 media:0.058 he:0.048 executive:0.042 \n",
      "==========================================================================================\n",
      "Cluster 58  (16 docs)\n",
      "water:0.132 he:0.056 polo:0.053 his:0.038 hay:0.035 \n",
      "==========================================================================================\n",
      "Cluster 59  (67 docs)\n",
      "album:0.156 her:0.149 she:0.101 released:0.068 on:0.051 \n",
      "==========================================================================================\n",
      "Cluster 60  (142 docs)\n",
      "he:0.084 court:0.055 was:0.054 law:0.053 from:0.052 \n",
      "==========================================================================================\n",
      "Cluster 61  (42 docs)\n",
      "she:0.161 series:0.108 role:0.069 her:0.065 episode:0.056 \n",
      "==========================================================================================\n",
      "Cluster 62  (104 docs)\n",
      "she:0.165 her:0.150 film:0.066 actress:0.061 for:0.048 \n",
      "==========================================================================================\n",
      "Cluster 63  (13 docs)\n",
      "referee:0.218 fifa:0.106 refereeing:0.080 he:0.080 uefa:0.073 \n",
      "==========================================================================================\n",
      "Cluster 64  (118 docs)\n",
      "band:0.129 guitar:0.074 he:0.061 with:0.052 album:0.051 \n",
      "==========================================================================================\n",
      "Cluster 65  (36 docs)\n",
      "yards:0.178 nfl:0.160 football:0.131 he:0.080 rushing:0.068 \n",
      "==========================================================================================\n",
      "Cluster 66  (37 docs)\n",
      "mathematics:0.121 mathematical:0.103 university:0.101 he:0.080 professor:0.076 \n",
      "==========================================================================================\n",
      "Cluster 67  (31 docs)\n",
      "philosophy:0.200 he:0.063 science:0.059 university:0.058 professor:0.054 \n",
      "==========================================================================================\n",
      "Cluster 68  (526 docs)\n",
      "he:0.061 his:0.041 was:0.038 for:0.030 as:0.029 \n",
      "==========================================================================================\n",
      "Cluster 69  (39 docs)\n",
      "he:0.050 his:0.045 that:0.041 for:0.030 was:0.030 \n",
      "==========================================================================================\n",
      "Cluster 70  (107 docs)\n",
      "he:0.064 design:0.054 new:0.053 york:0.050 architecture:0.038 \n",
      "==========================================================================================\n",
      "Cluster 71  (9 docs)\n",
      "bury:0.120 league:0.115 he:0.101 wigan:0.077 appearances:0.075 \n",
      "==========================================================================================\n",
      "Cluster 72  (48 docs)\n",
      "he:0.086 his:0.061 tennis:0.059 won:0.050 open:0.040 \n",
      "==========================================================================================\n",
      "Cluster 73  (41 docs)\n",
      "de:0.193 he:0.070 la:0.049 his:0.045 was:0.030 \n",
      "==========================================================================================\n",
      "Cluster 74  (20 docs)\n",
      "cricket:0.190 firstclass:0.114 he:0.088 batsman:0.080 played:0.078 \n",
      "==========================================================================================\n",
      "Cluster 75  (66 docs)\n",
      "rugby:0.191 he:0.084 for:0.071 played:0.067 against:0.063 \n",
      "==========================================================================================\n",
      "Cluster 76  (70 docs)\n",
      "church:0.144 bishop:0.119 he:0.094 was:0.062 diocese:0.047 \n",
      "==========================================================================================\n",
      "Cluster 77  (49 docs)\n",
      "for:0.057 she:0.056 on:0.051 news:0.047 as:0.046 \n",
      "==========================================================================================\n",
      "Cluster 78  (16 docs)\n",
      "song:0.129 philippines:0.081 aquino:0.073 manila:0.068 music:0.052 \n",
      "==========================================================================================\n",
      "Cluster 79  (55 docs)\n",
      "he:0.065 was:0.064 his:0.043 on:0.042 court:0.041 \n",
      "==========================================================================================\n",
      "Cluster 80  (26 docs)\n",
      "comics:0.120 comic:0.098 for:0.062 series:0.055 he:0.049 \n",
      "==========================================================================================\n",
      "Cluster 81  (44 docs)\n",
      "he:0.070 was:0.055 that:0.048 military:0.047 egyptian:0.040 \n",
      "==========================================================================================\n",
      "Cluster 82  (65 docs)\n",
      "football:0.134 afl:0.125 australian:0.096 he:0.079 played:0.075 \n",
      "==========================================================================================\n",
      "Cluster 83  (48 docs)\n",
      "health:0.122 medical:0.072 medicine:0.068 research:0.060 he:0.060 \n",
      "==========================================================================================\n",
      "Cluster 84  (97 docs)\n",
      "economics:0.098 university:0.095 he:0.089 economic:0.062 at:0.057 \n",
      "==========================================================================================\n",
      "Cluster 85  (28 docs)\n",
      "poetry:0.064 he:0.056 his:0.050 poems:0.048 poet:0.038 \n",
      "==========================================================================================\n",
      "Cluster 86  (40 docs)\n",
      "chinese:0.110 china:0.087 he:0.062 martial:0.041 his:0.041 \n",
      "==========================================================================================\n",
      "Cluster 87  (38 docs)\n",
      "news:0.141 he:0.088 space:0.064 for:0.056 on:0.050 \n",
      "==========================================================================================\n",
      "Cluster 88  (16 docs)\n",
      "belarusian:0.062 that:0.062 was:0.048 he:0.047 charges:0.044 \n",
      "==========================================================================================\n",
      "Cluster 89  (74 docs)\n",
      "music:0.065 records:0.057 he:0.046 his:0.044 with:0.041 \n",
      "==========================================================================================\n",
      "Cluster 90  (61 docs)\n",
      "basketball:0.174 nba:0.107 points:0.085 he:0.081 player:0.064 \n",
      "==========================================================================================\n",
      "Cluster 91  (134 docs)\n",
      "album:0.101 he:0.062 his:0.056 released:0.054 band:0.050 \n",
      "==========================================================================================\n",
      "Cluster 92  (235 docs)\n",
      "he:0.107 league:0.077 football:0.076 club:0.059 season:0.059 \n",
      "==========================================================================================\n",
      "Cluster 93  (27 docs)\n",
      "she:0.102 minister:0.073 was:0.055 for:0.050 affairs:0.045 \n",
      "==========================================================================================\n",
      "Cluster 94  (27 docs)\n",
      "board:0.109 chairman:0.093 he:0.077 executive:0.055 vodafone:0.053 \n",
      "==========================================================================================\n",
      "Cluster 95  (6 docs)\n",
      "mount:0.137 spine:0.110 whittaker:0.102 insulin:0.093 fischell:0.086 \n",
      "==========================================================================================\n",
      "Cluster 96  (92 docs)\n",
      "film:0.248 festival:0.071 films:0.059 documentary:0.049 for:0.044 \n",
      "==========================================================================================\n",
      "Cluster 97  (11 docs)\n",
      "appeared:0.103 he:0.093 as:0.064 sal:0.056 film:0.055 \n",
      "==========================================================================================\n",
      "Cluster 98  (225 docs)\n",
      "she:0.199 her:0.071 was:0.049 for:0.042 as:0.038 \n",
      "==========================================================================================\n",
      "Cluster 99  (20 docs)\n",
      "haiti:0.072 haitian:0.065 he:0.054 news:0.053 she:0.052 \n",
      "==========================================================================================\n"
     ]
    }
   ],
   "source": [
    "k = 100\n",
    "visualize_document_clusters(wiki, tf_idf, all_centroids[k], all_cluster_assignment[k], k,\n",
    "                            words, display_docs=0)"
   ]
  },
  {
   "cell_type": "markdown",
   "metadata": {
    "id": "AhM16_W4o2hK"
   },
   "source": [
    "**A high value of K encourages pure clusters, but we cannot keep increasing K. For large enough K, related documents end up going to different clusters.**\n",
    "\n",
    "That said, the result for K=100 is not entirely bad. After all, it gives us separate clusters for such categories as Scotland, Brazil, LGBT, computer science and the Mormon Church. If we set K somewhere between 25 and 100, we should be able to avoid breaking up clusters while discovering new ones.\n",
    "\n",
    "Also, we should ask ourselves how much **granularity** we want in our clustering. If we wanted a rough sketch of Wikipedia, we don't want too detailed clusters. On the other hand, having many clusters can be valuable when we are zooming into a certain part of Wikipedia.\n",
    "\n",
    "**There is no golden rule for choosing K. It all depends on the particular application and domain we are in.**\n",
    "\n",
    "Another heuristic people use that does not rely on so much visualization, which can be hard in many applications (including here!) is as follows.  Track heterogeneity versus K and look for the \"elbow\" of the curve where the heterogeneity decrease rapidly before this value of K, but then only gradually for larger values of K.  This naturally trades off between trying to minimize heterogeneity, but reduce model complexity.  In the heterogeneity versus K plot made above, we did not yet really see a flattening out of the heterogeneity, which might indicate that indeed K=100 is \"reasonable\" and we only see real overfitting for larger values of K (which are even harder to visualize using the methods we attempted above.)"
   ]
  },
  {
   "cell_type": "markdown",
   "metadata": {
    "id": "d9xN6TPZo2hK"
   },
   "source": [
    "## 🔍 **Question 8** Small clusters\n",
    "\n",
    "Another sign of too large K is having lots of small clusters. Look at the distribution of cluster sizes (by number of member data points). When doing k-means with k=100, how many of the clusters have fewer than 44 articles (i.e. 0.004% of the dataset)?\n",
    "\n",
    "Save your result in a variable called `num_small_clustesrs`\n"
   ]
  },
  {
   "cell_type": "code",
   "execution_count": 126,
   "metadata": {
    "id": "1dZ1kYzTo2hK"
   },
   "outputs": [
    {
     "name": "stdout",
     "output_type": "stream",
     "text": [
      "54\n"
     ]
    }
   ],
   "source": [
    "### edTest(test_q8_small_clusters) ###\n",
    "\n",
    "# TODO count clusters with fewer than 44 articles\n",
    "centroids, cluster_assignment = kmeans(tf_idf, 100, smart_initialize(tf_idf, 100), max_iter=400, record_heterogeneity=None, verbose=False)\n",
    "num_small_clusters = np.sum(np.bincount(cluster_assignment) < 44)\n",
    "print(num_small_clusters)"
   ]
  },
  {
   "cell_type": "markdown",
   "metadata": {
    "id": "GgtjdPZKo2hK"
   },
   "source": [
    "Keep in mind though that tiny clusters aren't necessarily bad. A tiny cluster of documents that really look like each others is definitely preferable to a medium-sized cluster of documents with mixed content. However, having too few articles in a cluster may lead us to question if that cluster is really worth separating from the others."
   ]
  }
 ],
 "metadata": {
  "colab": {
   "collapsed_sections": [
    "KEeFd0PBo2g0",
    "lyHkFDy0o2g0",
    "9hFrWT1Yo2g1",
    "e0UQT5SKo2g2",
    "c990JKsao2g3",
    "TWkIrMQvo2g3",
    "RTD6v4Sao2g6",
    "RtHVvmZ0o2g7",
    "pEkoWc6po2g8",
    "7-k9mXeGo2g9",
    "ySIw0ENho2g-",
    "ZRMReDFDo2g-",
    "8LJPdfM5o2g_",
    "rVskmXloo2hA",
    "n1dX6FT1o2hA",
    "BeTT70ORo2hA",
    "d9xN6TPZo2hK"
   ],
   "name": "HW6_k_means_with_text_data.ipynb",
   "provenance": []
  },
  "kernelspec": {
   "display_name": "Python 3",
   "language": "python",
   "name": "python3"
  },
  "language_info": {
   "codemirror_mode": {
    "name": "ipython",
    "version": 3
   },
   "file_extension": ".py",
   "mimetype": "text/x-python",
   "name": "python",
   "nbconvert_exporter": "python",
   "pygments_lexer": "ipython3",
   "version": "3.8.5"
  }
 },
 "nbformat": 4,
 "nbformat_minor": 1
}
